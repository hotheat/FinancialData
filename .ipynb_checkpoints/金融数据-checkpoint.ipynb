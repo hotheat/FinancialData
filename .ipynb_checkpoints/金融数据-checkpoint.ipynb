{
 "cells": [
  {
   "cell_type": "code",
   "execution_count": 1,
   "metadata": {
    "ExecuteTime": {
     "end_time": "2019-03-12T07:46:35.761583Z",
     "start_time": "2019-03-12T07:46:34.626478Z"
    }
   },
   "outputs": [],
   "source": [
    "import pandas as pd\n",
    "import matplotlib.pyplot as plt\n",
    "import numpy as np\n",
    "import seaborn as sns\n",
    "import matplotlib as mpl\n",
    "import datetime\n",
    "import time\n",
    "import warnings\n",
    "from sklearn.model_selection import train_test_split\n",
    "from model import *\n",
    "from rgf.sklearn import RGFClassifier\n",
    "import xgbfir\n",
    "from sklearn.preprocessing import minmax_scale\n",
    "from sklearn.linear_model import LogisticRegression\n",
    "from xgboost import XGBClassifier\n",
    "from sklearn.tree import DecisionTreeClassifier\n",
    "from sklearn.svm import SVC\n",
    "from lightgbm  import LGBMClassifier"
   ]
  },
  {
   "cell_type": "code",
   "execution_count": 2,
   "metadata": {
    "ExecuteTime": {
     "end_time": "2019-03-12T07:46:35.863201Z",
     "start_time": "2019-03-12T07:46:35.763402Z"
    }
   },
   "outputs": [],
   "source": [
    "%load_ext autoreload\n",
    "%autoreload 2\n",
    "mpl.rcParams['font.sans-serif'] = ['FangSong'] # 指定默认字体\n",
    "mpl.rcParams['axes.unicode_minus'] = False # 解决保存图像是负号'-'显示为方块的问题\n",
    "# 关闭 SettingWithCopyWarning \n",
    "pd.set_option('mode.chained_assignment', None)"
   ]
  },
  {
   "cell_type": "code",
   "execution_count": 3,
   "metadata": {
    "ExecuteTime": {
     "end_time": "2019-03-12T07:46:36.082547Z",
     "start_time": "2019-03-12T07:46:35.864131Z"
    }
   },
   "outputs": [],
   "source": [
    "df = pd.read_csv('data.csv', encoding='gbk')"
   ]
  },
  {
   "cell_type": "code",
   "execution_count": 4,
   "metadata": {
    "ExecuteTime": {
     "end_time": "2019-03-12T07:46:36.191255Z",
     "start_time": "2019-03-12T07:46:36.084543Z"
    }
   },
   "outputs": [
    {
     "data": {
      "text/plain": [
       "(4754, 90)"
      ]
     },
     "execution_count": 4,
     "metadata": {},
     "output_type": "execute_result"
    }
   ],
   "source": [
    "df.shape"
   ]
  },
  {
   "cell_type": "code",
   "execution_count": 5,
   "metadata": {
    "ExecuteTime": {
     "end_time": "2019-03-12T07:46:36.306946Z",
     "start_time": "2019-03-12T07:46:36.192253Z"
    }
   },
   "outputs": [
    {
     "data": {
      "text/html": [
       "<div>\n",
       "<style scoped>\n",
       "    .dataframe tbody tr th:only-of-type {\n",
       "        vertical-align: middle;\n",
       "    }\n",
       "\n",
       "    .dataframe tbody tr th {\n",
       "        vertical-align: top;\n",
       "    }\n",
       "\n",
       "    .dataframe thead th {\n",
       "        text-align: right;\n",
       "    }\n",
       "</style>\n",
       "<table border=\"1\" class=\"dataframe\">\n",
       "  <thead>\n",
       "    <tr style=\"text-align: right;\">\n",
       "      <th></th>\n",
       "      <th>Unnamed: 0</th>\n",
       "      <th>custid</th>\n",
       "      <th>trade_no</th>\n",
       "      <th>bank_card_no</th>\n",
       "      <th>low_volume_percent</th>\n",
       "      <th>middle_volume_percent</th>\n",
       "      <th>take_amount_in_later_12_month_highest</th>\n",
       "      <th>trans_amount_increase_rate_lately</th>\n",
       "      <th>trans_activity_month</th>\n",
       "      <th>trans_activity_day</th>\n",
       "      <th>...</th>\n",
       "      <th>loans_max_limit</th>\n",
       "      <th>loans_avg_limit</th>\n",
       "      <th>consfin_credit_limit</th>\n",
       "      <th>consfin_credibility</th>\n",
       "      <th>consfin_org_count_current</th>\n",
       "      <th>consfin_product_count</th>\n",
       "      <th>consfin_max_limit</th>\n",
       "      <th>consfin_avg_limit</th>\n",
       "      <th>latest_query_day</th>\n",
       "      <th>loans_latest_day</th>\n",
       "    </tr>\n",
       "  </thead>\n",
       "  <tbody>\n",
       "    <tr>\n",
       "      <th>0</th>\n",
       "      <td>5</td>\n",
       "      <td>2791858</td>\n",
       "      <td>20180507115231274000000023057383</td>\n",
       "      <td>卡号1</td>\n",
       "      <td>0.01</td>\n",
       "      <td>0.99</td>\n",
       "      <td>0</td>\n",
       "      <td>0.90</td>\n",
       "      <td>0.55</td>\n",
       "      <td>0.313</td>\n",
       "      <td>...</td>\n",
       "      <td>2900.0</td>\n",
       "      <td>1688.0</td>\n",
       "      <td>1200.0</td>\n",
       "      <td>75.0</td>\n",
       "      <td>1.0</td>\n",
       "      <td>2.0</td>\n",
       "      <td>1200.0</td>\n",
       "      <td>1200.0</td>\n",
       "      <td>12.0</td>\n",
       "      <td>18.0</td>\n",
       "    </tr>\n",
       "    <tr>\n",
       "      <th>1</th>\n",
       "      <td>10</td>\n",
       "      <td>534047</td>\n",
       "      <td>20180507121002192000000023073000</td>\n",
       "      <td>卡号1</td>\n",
       "      <td>0.02</td>\n",
       "      <td>0.94</td>\n",
       "      <td>2000</td>\n",
       "      <td>1.28</td>\n",
       "      <td>1.00</td>\n",
       "      <td>0.458</td>\n",
       "      <td>...</td>\n",
       "      <td>3500.0</td>\n",
       "      <td>1758.0</td>\n",
       "      <td>15100.0</td>\n",
       "      <td>80.0</td>\n",
       "      <td>5.0</td>\n",
       "      <td>6.0</td>\n",
       "      <td>22800.0</td>\n",
       "      <td>9360.0</td>\n",
       "      <td>4.0</td>\n",
       "      <td>2.0</td>\n",
       "    </tr>\n",
       "    <tr>\n",
       "      <th>2</th>\n",
       "      <td>12</td>\n",
       "      <td>2849787</td>\n",
       "      <td>20180507125159718000000023114911</td>\n",
       "      <td>卡号1</td>\n",
       "      <td>0.04</td>\n",
       "      <td>0.96</td>\n",
       "      <td>0</td>\n",
       "      <td>1.00</td>\n",
       "      <td>1.00</td>\n",
       "      <td>0.114</td>\n",
       "      <td>...</td>\n",
       "      <td>1600.0</td>\n",
       "      <td>1250.0</td>\n",
       "      <td>4200.0</td>\n",
       "      <td>87.0</td>\n",
       "      <td>1.0</td>\n",
       "      <td>1.0</td>\n",
       "      <td>4200.0</td>\n",
       "      <td>4200.0</td>\n",
       "      <td>2.0</td>\n",
       "      <td>6.0</td>\n",
       "    </tr>\n",
       "    <tr>\n",
       "      <th>3</th>\n",
       "      <td>13</td>\n",
       "      <td>1809708</td>\n",
       "      <td>20180507121358683000000388283484</td>\n",
       "      <td>卡号1</td>\n",
       "      <td>0.00</td>\n",
       "      <td>0.96</td>\n",
       "      <td>2000</td>\n",
       "      <td>0.13</td>\n",
       "      <td>0.57</td>\n",
       "      <td>0.777</td>\n",
       "      <td>...</td>\n",
       "      <td>3200.0</td>\n",
       "      <td>1541.0</td>\n",
       "      <td>16300.0</td>\n",
       "      <td>80.0</td>\n",
       "      <td>5.0</td>\n",
       "      <td>5.0</td>\n",
       "      <td>30000.0</td>\n",
       "      <td>12180.0</td>\n",
       "      <td>2.0</td>\n",
       "      <td>4.0</td>\n",
       "    </tr>\n",
       "    <tr>\n",
       "      <th>4</th>\n",
       "      <td>14</td>\n",
       "      <td>2499829</td>\n",
       "      <td>20180507115448545000000388205844</td>\n",
       "      <td>卡号1</td>\n",
       "      <td>0.01</td>\n",
       "      <td>0.99</td>\n",
       "      <td>0</td>\n",
       "      <td>0.46</td>\n",
       "      <td>1.00</td>\n",
       "      <td>0.175</td>\n",
       "      <td>...</td>\n",
       "      <td>2300.0</td>\n",
       "      <td>1630.0</td>\n",
       "      <td>8300.0</td>\n",
       "      <td>79.0</td>\n",
       "      <td>2.0</td>\n",
       "      <td>2.0</td>\n",
       "      <td>8400.0</td>\n",
       "      <td>8250.0</td>\n",
       "      <td>22.0</td>\n",
       "      <td>120.0</td>\n",
       "    </tr>\n",
       "  </tbody>\n",
       "</table>\n",
       "<p>5 rows × 90 columns</p>\n",
       "</div>"
      ],
      "text/plain": [
       "   Unnamed: 0   custid                          trade_no bank_card_no  \\\n",
       "0           5  2791858  20180507115231274000000023057383          卡号1   \n",
       "1          10   534047  20180507121002192000000023073000          卡号1   \n",
       "2          12  2849787  20180507125159718000000023114911          卡号1   \n",
       "3          13  1809708  20180507121358683000000388283484          卡号1   \n",
       "4          14  2499829  20180507115448545000000388205844          卡号1   \n",
       "\n",
       "   low_volume_percent  middle_volume_percent  \\\n",
       "0                0.01                   0.99   \n",
       "1                0.02                   0.94   \n",
       "2                0.04                   0.96   \n",
       "3                0.00                   0.96   \n",
       "4                0.01                   0.99   \n",
       "\n",
       "   take_amount_in_later_12_month_highest  trans_amount_increase_rate_lately  \\\n",
       "0                                      0                               0.90   \n",
       "1                                   2000                               1.28   \n",
       "2                                      0                               1.00   \n",
       "3                                   2000                               0.13   \n",
       "4                                      0                               0.46   \n",
       "\n",
       "   trans_activity_month  trans_activity_day        ...         \\\n",
       "0                  0.55               0.313        ...          \n",
       "1                  1.00               0.458        ...          \n",
       "2                  1.00               0.114        ...          \n",
       "3                  0.57               0.777        ...          \n",
       "4                  1.00               0.175        ...          \n",
       "\n",
       "   loans_max_limit  loans_avg_limit  consfin_credit_limit  \\\n",
       "0           2900.0           1688.0                1200.0   \n",
       "1           3500.0           1758.0               15100.0   \n",
       "2           1600.0           1250.0                4200.0   \n",
       "3           3200.0           1541.0               16300.0   \n",
       "4           2300.0           1630.0                8300.0   \n",
       "\n",
       "   consfin_credibility  consfin_org_count_current  consfin_product_count  \\\n",
       "0                 75.0                        1.0                    2.0   \n",
       "1                 80.0                        5.0                    6.0   \n",
       "2                 87.0                        1.0                    1.0   \n",
       "3                 80.0                        5.0                    5.0   \n",
       "4                 79.0                        2.0                    2.0   \n",
       "\n",
       "   consfin_max_limit  consfin_avg_limit  latest_query_day  loans_latest_day  \n",
       "0             1200.0             1200.0              12.0              18.0  \n",
       "1            22800.0             9360.0               4.0               2.0  \n",
       "2             4200.0             4200.0               2.0               6.0  \n",
       "3            30000.0            12180.0               2.0               4.0  \n",
       "4             8400.0             8250.0              22.0             120.0  \n",
       "\n",
       "[5 rows x 90 columns]"
      ]
     },
     "execution_count": 5,
     "metadata": {},
     "output_type": "execute_result"
    }
   ],
   "source": [
    "df.head()"
   ]
  },
  {
   "cell_type": "code",
   "execution_count": 6,
   "metadata": {
    "ExecuteTime": {
     "end_time": "2019-03-12T07:46:36.422671Z",
     "start_time": "2019-03-12T07:46:36.307944Z"
    }
   },
   "outputs": [],
   "source": [
    "x = df.drop('status', axis=1)\n",
    "y = df['status']"
   ]
  },
  {
   "cell_type": "markdown",
   "metadata": {},
   "source": [
    "# 数据类型分析"
   ]
  },
  {
   "cell_type": "code",
   "execution_count": 7,
   "metadata": {
    "ExecuteTime": {
     "end_time": "2019-03-12T07:46:36.533374Z",
     "start_time": "2019-03-12T07:46:36.423668Z"
    }
   },
   "outputs": [],
   "source": [
    "train_test = x"
   ]
  },
  {
   "cell_type": "code",
   "execution_count": 8,
   "metadata": {
    "ExecuteTime": {
     "end_time": "2019-03-12T07:46:36.640058Z",
     "start_time": "2019-03-12T07:46:36.535337Z"
    }
   },
   "outputs": [
    {
     "name": "stdout",
     "output_type": "stream",
     "text": [
      "<class 'pandas.core.frame.DataFrame'>\n",
      "RangeIndex: 4754 entries, 0 to 4753\n",
      "Columns: 89 entries, Unnamed: 0 to loans_latest_day\n",
      "dtypes: float64(70), int64(12), object(7)\n",
      "memory usage: 3.2+ MB\n"
     ]
    }
   ],
   "source": [
    "train_test.info(verbose=False)"
   ]
  },
  {
   "cell_type": "markdown",
   "metadata": {},
   "source": [
    "原数据中数值型特征有 82 个，字符串类型特征有 7 个，多数特征缺失值不是特别多，student_feature 缺失值较多。"
   ]
  },
  {
   "cell_type": "code",
   "execution_count": 9,
   "metadata": {
    "ExecuteTime": {
     "end_time": "2019-03-12T07:46:36.969180Z",
     "start_time": "2019-03-12T07:46:36.645043Z"
    }
   },
   "outputs": [
    {
     "data": {
      "text/html": [
       "<div>\n",
       "<style scoped>\n",
       "    .dataframe tbody tr th:only-of-type {\n",
       "        vertical-align: middle;\n",
       "    }\n",
       "\n",
       "    .dataframe tbody tr th {\n",
       "        vertical-align: top;\n",
       "    }\n",
       "\n",
       "    .dataframe thead th {\n",
       "        text-align: right;\n",
       "    }\n",
       "</style>\n",
       "<table border=\"1\" class=\"dataframe\">\n",
       "  <thead>\n",
       "    <tr style=\"text-align: right;\">\n",
       "      <th></th>\n",
       "      <th>Unnamed: 0</th>\n",
       "      <th>custid</th>\n",
       "      <th>low_volume_percent</th>\n",
       "      <th>middle_volume_percent</th>\n",
       "      <th>take_amount_in_later_12_month_highest</th>\n",
       "      <th>trans_amount_increase_rate_lately</th>\n",
       "      <th>trans_activity_month</th>\n",
       "      <th>trans_activity_day</th>\n",
       "      <th>transd_mcc</th>\n",
       "      <th>trans_days_interval_filter</th>\n",
       "      <th>...</th>\n",
       "      <th>loans_max_limit</th>\n",
       "      <th>loans_avg_limit</th>\n",
       "      <th>consfin_credit_limit</th>\n",
       "      <th>consfin_credibility</th>\n",
       "      <th>consfin_org_count_current</th>\n",
       "      <th>consfin_product_count</th>\n",
       "      <th>consfin_max_limit</th>\n",
       "      <th>consfin_avg_limit</th>\n",
       "      <th>latest_query_day</th>\n",
       "      <th>loans_latest_day</th>\n",
       "    </tr>\n",
       "  </thead>\n",
       "  <tbody>\n",
       "    <tr>\n",
       "      <th>count</th>\n",
       "      <td>4754.000000</td>\n",
       "      <td>4.754000e+03</td>\n",
       "      <td>4752.000000</td>\n",
       "      <td>4752.000000</td>\n",
       "      <td>4754.000000</td>\n",
       "      <td>4751.000000</td>\n",
       "      <td>4752.000000</td>\n",
       "      <td>4752.000000</td>\n",
       "      <td>4752.000000</td>\n",
       "      <td>4746.000000</td>\n",
       "      <td>...</td>\n",
       "      <td>4457.000000</td>\n",
       "      <td>4457.000000</td>\n",
       "      <td>4457.000000</td>\n",
       "      <td>4457.000000</td>\n",
       "      <td>4457.000000</td>\n",
       "      <td>4457.000000</td>\n",
       "      <td>4457.000000</td>\n",
       "      <td>4457.000000</td>\n",
       "      <td>4450.000000</td>\n",
       "      <td>4457.000000</td>\n",
       "    </tr>\n",
       "    <tr>\n",
       "      <th>mean</th>\n",
       "      <td>6008.414178</td>\n",
       "      <td>1.690993e+06</td>\n",
       "      <td>0.021806</td>\n",
       "      <td>0.901294</td>\n",
       "      <td>1940.197728</td>\n",
       "      <td>14.160674</td>\n",
       "      <td>0.804411</td>\n",
       "      <td>0.365425</td>\n",
       "      <td>17.502946</td>\n",
       "      <td>29.029920</td>\n",
       "      <td>...</td>\n",
       "      <td>3390.038142</td>\n",
       "      <td>1820.357864</td>\n",
       "      <td>9187.009199</td>\n",
       "      <td>76.042630</td>\n",
       "      <td>4.732331</td>\n",
       "      <td>5.227507</td>\n",
       "      <td>16153.690823</td>\n",
       "      <td>8007.696881</td>\n",
       "      <td>24.112809</td>\n",
       "      <td>55.181512</td>\n",
       "    </tr>\n",
       "    <tr>\n",
       "      <th>std</th>\n",
       "      <td>3452.071428</td>\n",
       "      <td>1.034235e+06</td>\n",
       "      <td>0.041527</td>\n",
       "      <td>0.144856</td>\n",
       "      <td>3923.971494</td>\n",
       "      <td>694.180473</td>\n",
       "      <td>0.196920</td>\n",
       "      <td>0.170196</td>\n",
       "      <td>4.475616</td>\n",
       "      <td>22.722432</td>\n",
       "      <td>...</td>\n",
       "      <td>1474.206546</td>\n",
       "      <td>583.418291</td>\n",
       "      <td>7371.257043</td>\n",
       "      <td>14.536819</td>\n",
       "      <td>2.974596</td>\n",
       "      <td>3.409292</td>\n",
       "      <td>14301.037628</td>\n",
       "      <td>5679.418585</td>\n",
       "      <td>37.725724</td>\n",
       "      <td>53.486408</td>\n",
       "    </tr>\n",
       "    <tr>\n",
       "      <th>min</th>\n",
       "      <td>5.000000</td>\n",
       "      <td>1.140000e+02</td>\n",
       "      <td>0.000000</td>\n",
       "      <td>0.000000</td>\n",
       "      <td>0.000000</td>\n",
       "      <td>0.000000</td>\n",
       "      <td>0.120000</td>\n",
       "      <td>0.033000</td>\n",
       "      <td>2.000000</td>\n",
       "      <td>0.000000</td>\n",
       "      <td>...</td>\n",
       "      <td>0.000000</td>\n",
       "      <td>0.000000</td>\n",
       "      <td>0.000000</td>\n",
       "      <td>0.000000</td>\n",
       "      <td>0.000000</td>\n",
       "      <td>0.000000</td>\n",
       "      <td>0.000000</td>\n",
       "      <td>0.000000</td>\n",
       "      <td>-2.000000</td>\n",
       "      <td>-2.000000</td>\n",
       "    </tr>\n",
       "    <tr>\n",
       "      <th>25%</th>\n",
       "      <td>3106.000000</td>\n",
       "      <td>7.593358e+05</td>\n",
       "      <td>0.010000</td>\n",
       "      <td>0.880000</td>\n",
       "      <td>0.000000</td>\n",
       "      <td>0.615000</td>\n",
       "      <td>0.670000</td>\n",
       "      <td>0.233000</td>\n",
       "      <td>15.000000</td>\n",
       "      <td>16.000000</td>\n",
       "      <td>...</td>\n",
       "      <td>2300.000000</td>\n",
       "      <td>1535.000000</td>\n",
       "      <td>4800.000000</td>\n",
       "      <td>77.000000</td>\n",
       "      <td>2.000000</td>\n",
       "      <td>3.000000</td>\n",
       "      <td>7800.000000</td>\n",
       "      <td>4737.000000</td>\n",
       "      <td>5.000000</td>\n",
       "      <td>10.000000</td>\n",
       "    </tr>\n",
       "    <tr>\n",
       "      <th>50%</th>\n",
       "      <td>6006.500000</td>\n",
       "      <td>1.634942e+06</td>\n",
       "      <td>0.010000</td>\n",
       "      <td>0.960000</td>\n",
       "      <td>500.000000</td>\n",
       "      <td>0.970000</td>\n",
       "      <td>0.860000</td>\n",
       "      <td>0.350000</td>\n",
       "      <td>17.000000</td>\n",
       "      <td>23.000000</td>\n",
       "      <td>...</td>\n",
       "      <td>3100.000000</td>\n",
       "      <td>1810.000000</td>\n",
       "      <td>7700.000000</td>\n",
       "      <td>79.000000</td>\n",
       "      <td>4.000000</td>\n",
       "      <td>5.000000</td>\n",
       "      <td>13800.000000</td>\n",
       "      <td>7050.000000</td>\n",
       "      <td>14.000000</td>\n",
       "      <td>36.000000</td>\n",
       "    </tr>\n",
       "    <tr>\n",
       "      <th>75%</th>\n",
       "      <td>8999.000000</td>\n",
       "      <td>2.597905e+06</td>\n",
       "      <td>0.020000</td>\n",
       "      <td>0.990000</td>\n",
       "      <td>2000.000000</td>\n",
       "      <td>1.600000</td>\n",
       "      <td>1.000000</td>\n",
       "      <td>0.480000</td>\n",
       "      <td>20.000000</td>\n",
       "      <td>32.000000</td>\n",
       "      <td>...</td>\n",
       "      <td>4300.000000</td>\n",
       "      <td>2100.000000</td>\n",
       "      <td>11700.000000</td>\n",
       "      <td>80.000000</td>\n",
       "      <td>7.000000</td>\n",
       "      <td>7.000000</td>\n",
       "      <td>20400.000000</td>\n",
       "      <td>10000.000000</td>\n",
       "      <td>24.000000</td>\n",
       "      <td>91.000000</td>\n",
       "    </tr>\n",
       "    <tr>\n",
       "      <th>max</th>\n",
       "      <td>11992.000000</td>\n",
       "      <td>4.004694e+06</td>\n",
       "      <td>1.000000</td>\n",
       "      <td>1.000000</td>\n",
       "      <td>68000.000000</td>\n",
       "      <td>47596.740000</td>\n",
       "      <td>1.000000</td>\n",
       "      <td>0.941000</td>\n",
       "      <td>42.000000</td>\n",
       "      <td>285.000000</td>\n",
       "      <td>...</td>\n",
       "      <td>10000.000000</td>\n",
       "      <td>6900.000000</td>\n",
       "      <td>87100.000000</td>\n",
       "      <td>87.000000</td>\n",
       "      <td>18.000000</td>\n",
       "      <td>20.000000</td>\n",
       "      <td>266400.000000</td>\n",
       "      <td>82800.000000</td>\n",
       "      <td>360.000000</td>\n",
       "      <td>323.000000</td>\n",
       "    </tr>\n",
       "  </tbody>\n",
       "</table>\n",
       "<p>8 rows × 82 columns</p>\n",
       "</div>"
      ],
      "text/plain": [
       "         Unnamed: 0        custid  low_volume_percent  middle_volume_percent  \\\n",
       "count   4754.000000  4.754000e+03         4752.000000            4752.000000   \n",
       "mean    6008.414178  1.690993e+06            0.021806               0.901294   \n",
       "std     3452.071428  1.034235e+06            0.041527               0.144856   \n",
       "min        5.000000  1.140000e+02            0.000000               0.000000   \n",
       "25%     3106.000000  7.593358e+05            0.010000               0.880000   \n",
       "50%     6006.500000  1.634942e+06            0.010000               0.960000   \n",
       "75%     8999.000000  2.597905e+06            0.020000               0.990000   \n",
       "max    11992.000000  4.004694e+06            1.000000               1.000000   \n",
       "\n",
       "       take_amount_in_later_12_month_highest  \\\n",
       "count                            4754.000000   \n",
       "mean                             1940.197728   \n",
       "std                              3923.971494   \n",
       "min                                 0.000000   \n",
       "25%                                 0.000000   \n",
       "50%                               500.000000   \n",
       "75%                              2000.000000   \n",
       "max                             68000.000000   \n",
       "\n",
       "       trans_amount_increase_rate_lately  trans_activity_month  \\\n",
       "count                        4751.000000           4752.000000   \n",
       "mean                           14.160674              0.804411   \n",
       "std                           694.180473              0.196920   \n",
       "min                             0.000000              0.120000   \n",
       "25%                             0.615000              0.670000   \n",
       "50%                             0.970000              0.860000   \n",
       "75%                             1.600000              1.000000   \n",
       "max                         47596.740000              1.000000   \n",
       "\n",
       "       trans_activity_day   transd_mcc  trans_days_interval_filter  \\\n",
       "count         4752.000000  4752.000000                 4746.000000   \n",
       "mean             0.365425    17.502946                   29.029920   \n",
       "std              0.170196     4.475616                   22.722432   \n",
       "min              0.033000     2.000000                    0.000000   \n",
       "25%              0.233000    15.000000                   16.000000   \n",
       "50%              0.350000    17.000000                   23.000000   \n",
       "75%              0.480000    20.000000                   32.000000   \n",
       "max              0.941000    42.000000                  285.000000   \n",
       "\n",
       "             ...         loans_max_limit  loans_avg_limit  \\\n",
       "count        ...             4457.000000      4457.000000   \n",
       "mean         ...             3390.038142      1820.357864   \n",
       "std          ...             1474.206546       583.418291   \n",
       "min          ...                0.000000         0.000000   \n",
       "25%          ...             2300.000000      1535.000000   \n",
       "50%          ...             3100.000000      1810.000000   \n",
       "75%          ...             4300.000000      2100.000000   \n",
       "max          ...            10000.000000      6900.000000   \n",
       "\n",
       "       consfin_credit_limit  consfin_credibility  consfin_org_count_current  \\\n",
       "count           4457.000000          4457.000000                4457.000000   \n",
       "mean            9187.009199            76.042630                   4.732331   \n",
       "std             7371.257043            14.536819                   2.974596   \n",
       "min                0.000000             0.000000                   0.000000   \n",
       "25%             4800.000000            77.000000                   2.000000   \n",
       "50%             7700.000000            79.000000                   4.000000   \n",
       "75%            11700.000000            80.000000                   7.000000   \n",
       "max            87100.000000            87.000000                  18.000000   \n",
       "\n",
       "       consfin_product_count  consfin_max_limit  consfin_avg_limit  \\\n",
       "count            4457.000000        4457.000000        4457.000000   \n",
       "mean                5.227507       16153.690823        8007.696881   \n",
       "std                 3.409292       14301.037628        5679.418585   \n",
       "min                 0.000000           0.000000           0.000000   \n",
       "25%                 3.000000        7800.000000        4737.000000   \n",
       "50%                 5.000000       13800.000000        7050.000000   \n",
       "75%                 7.000000       20400.000000       10000.000000   \n",
       "max                20.000000      266400.000000       82800.000000   \n",
       "\n",
       "       latest_query_day  loans_latest_day  \n",
       "count       4450.000000       4457.000000  \n",
       "mean          24.112809         55.181512  \n",
       "std           37.725724         53.486408  \n",
       "min           -2.000000         -2.000000  \n",
       "25%            5.000000         10.000000  \n",
       "50%           14.000000         36.000000  \n",
       "75%           24.000000         91.000000  \n",
       "max          360.000000        323.000000  \n",
       "\n",
       "[8 rows x 82 columns]"
      ]
     },
     "execution_count": 9,
     "metadata": {},
     "output_type": "execute_result"
    }
   ],
   "source": [
    "train_test.describe()"
   ]
  },
  {
   "cell_type": "code",
   "execution_count": 10,
   "metadata": {
    "ExecuteTime": {
     "end_time": "2019-03-12T07:46:37.131784Z",
     "start_time": "2019-03-12T07:46:36.972170Z"
    }
   },
   "outputs": [
    {
     "data": {
      "text/html": [
       "<div>\n",
       "<style scoped>\n",
       "    .dataframe tbody tr th:only-of-type {\n",
       "        vertical-align: middle;\n",
       "    }\n",
       "\n",
       "    .dataframe tbody tr th {\n",
       "        vertical-align: top;\n",
       "    }\n",
       "\n",
       "    .dataframe thead th {\n",
       "        text-align: right;\n",
       "    }\n",
       "</style>\n",
       "<table border=\"1\" class=\"dataframe\">\n",
       "  <thead>\n",
       "    <tr style=\"text-align: right;\">\n",
       "      <th></th>\n",
       "      <th>trade_no</th>\n",
       "      <th>bank_card_no</th>\n",
       "      <th>reg_preference_for_trad</th>\n",
       "      <th>source</th>\n",
       "      <th>id_name</th>\n",
       "      <th>latest_query_time</th>\n",
       "      <th>loans_latest_time</th>\n",
       "    </tr>\n",
       "  </thead>\n",
       "  <tbody>\n",
       "    <tr>\n",
       "      <th>count</th>\n",
       "      <td>4754</td>\n",
       "      <td>4754</td>\n",
       "      <td>4752</td>\n",
       "      <td>4754</td>\n",
       "      <td>4478</td>\n",
       "      <td>4450</td>\n",
       "      <td>4457</td>\n",
       "    </tr>\n",
       "    <tr>\n",
       "      <th>unique</th>\n",
       "      <td>4754</td>\n",
       "      <td>1</td>\n",
       "      <td>5</td>\n",
       "      <td>1</td>\n",
       "      <td>4309</td>\n",
       "      <td>207</td>\n",
       "      <td>232</td>\n",
       "    </tr>\n",
       "    <tr>\n",
       "      <th>top</th>\n",
       "      <td>20180507115631149000000023063579</td>\n",
       "      <td>卡号1</td>\n",
       "      <td>一线城市</td>\n",
       "      <td>xs</td>\n",
       "      <td>张龙</td>\n",
       "      <td>2018-04-14</td>\n",
       "      <td>2018-05-03</td>\n",
       "    </tr>\n",
       "    <tr>\n",
       "      <th>freq</th>\n",
       "      <td>1</td>\n",
       "      <td>4754</td>\n",
       "      <td>3403</td>\n",
       "      <td>4754</td>\n",
       "      <td>5</td>\n",
       "      <td>423</td>\n",
       "      <td>134</td>\n",
       "    </tr>\n",
       "  </tbody>\n",
       "</table>\n",
       "</div>"
      ],
      "text/plain": [
       "                                trade_no bank_card_no reg_preference_for_trad  \\\n",
       "count                               4754         4754                    4752   \n",
       "unique                              4754            1                       5   \n",
       "top     20180507115631149000000023063579          卡号1                    一线城市   \n",
       "freq                                   1         4754                    3403   \n",
       "\n",
       "       source id_name latest_query_time loans_latest_time  \n",
       "count    4754    4478              4450              4457  \n",
       "unique      1    4309               207               232  \n",
       "top        xs      张龙        2018-04-14        2018-05-03  \n",
       "freq     4754       5               423               134  "
      ]
     },
     "execution_count": 10,
     "metadata": {},
     "output_type": "execute_result"
    }
   ],
   "source": [
    "train_test.describe(include='O')"
   ]
  },
  {
   "cell_type": "code",
   "execution_count": 11,
   "metadata": {
    "ExecuteTime": {
     "end_time": "2019-03-12T07:46:37.232471Z",
     "start_time": "2019-03-12T07:46:37.133736Z"
    }
   },
   "outputs": [
    {
     "data": {
      "text/plain": [
       "0.2509465713083719"
      ]
     },
     "execution_count": 11,
     "metadata": {},
     "output_type": "execute_result"
    }
   ],
   "source": [
    "y.mean()"
   ]
  },
  {
   "cell_type": "code",
   "execution_count": 12,
   "metadata": {
    "ExecuteTime": {
     "end_time": "2019-03-12T07:46:37.460860Z",
     "start_time": "2019-03-12T07:46:37.234468Z"
    }
   },
   "outputs": [
    {
     "data": {
      "text/plain": [
       "<matplotlib.axes._subplots.AxesSubplot at 0x1857879b588>"
      ]
     },
     "execution_count": 12,
     "metadata": {},
     "output_type": "execute_result"
    },
    {
     "data": {
      "image/png": "[encoded data removed]",
      "text/plain": [
       "<Figure size 432x288 with 1 Axes>"
      ]
     },
     "metadata": {},
     "output_type": "display_data"
    }
   ],
   "source": [
    "sns.countplot(y)"
   ]
  },
  {
   "cell_type": "code",
   "execution_count": 13,
   "metadata": {
    "ExecuteTime": {
     "end_time": "2019-03-12T07:46:38.975811Z",
     "start_time": "2019-03-12T07:46:37.461860Z"
    }
   },
   "outputs": [
    {
     "data": {
      "text/plain": [
       "<matplotlib.axes._subplots.AxesSubplot at 0x1857850e710>"
      ]
     },
     "execution_count": 13,
     "metadata": {},
     "output_type": "execute_result"
    },
    {
     "data": {
      "image/png": "[encoded data removed]",
      "text/plain": [
       "<Figure size 576x576 with 2 Axes>"
      ]
     },
     "metadata": {},
     "output_type": "display_data"
    }
   ],
   "source": [
    "corr_mat = df.corr()\n",
    "plt.figure(figsize=(8,8))\n",
    "sns.heatmap(corr_mat)"
   ]
  },
  {
   "cell_type": "markdown",
   "metadata": {},
   "source": [
    "相关性较强的特征集中在关于下半部分"
   ]
  },
  {
   "cell_type": "markdown",
   "metadata": {},
   "source": [
    "# 原数据简单处理的结果"
   ]
  },
  {
   "cell_type": "code",
   "execution_count": 14,
   "metadata": {
    "ExecuteTime": {
     "end_time": "2019-03-12T07:46:39.092546Z",
     "start_time": "2019-03-12T07:46:38.977805Z"
    }
   },
   "outputs": [],
   "source": [
    "dataset01 = train_test.drop([\"custid\",\"trade_no\",\"bank_card_no\",\"id_name\",\"first_transaction_time\",\"latest_query_time\",\"loans_latest_time\",\"source\"],axis=1)"
   ]
  },
  {
   "cell_type": "code",
   "execution_count": 15,
   "metadata": {
    "ExecuteTime": {
     "end_time": "2019-03-12T07:46:39.428602Z",
     "start_time": "2019-03-12T07:46:39.093497Z"
    }
   },
   "outputs": [],
   "source": [
    "# 用众数填充缺失值\n",
    "for c in dataset01.columns:\n",
    "    dataset01.loc[dataset01[c].isnull(), c] = dataset01[c].mode()[0]"
   ]
  },
  {
   "cell_type": "code",
   "execution_count": 16,
   "metadata": {
    "ExecuteTime": {
     "end_time": "2019-03-12T07:46:39.536376Z",
     "start_time": "2019-03-12T07:46:39.429598Z"
    }
   },
   "outputs": [],
   "source": [
    "city_map = {'一线城市':1, '二线城市':2, '三线城市':3, '其他城市':4, '境外':0}\n",
    "dataset01['reg_preference_for_trad'] = dataset01['reg_preference_for_trad'].map(city_map)\n",
    "dataset01[\"student_feature\"] = dataset01[\"student_feature\"].replace([2],[0])"
   ]
  },
  {
   "cell_type": "code",
   "execution_count": 17,
   "metadata": {
    "ExecuteTime": {
     "end_time": "2019-03-12T07:46:39.640035Z",
     "start_time": "2019-03-12T07:46:39.538309Z"
    }
   },
   "outputs": [
    {
     "name": "stderr",
     "output_type": "stream",
     "text": [
      "C:\\Users\\hotheat\\Anaconda3\\lib\\site-packages\\ipykernel_launcher.py:1: FutureWarning: convert_objects is deprecated.  To re-infer data dtypes for object columns, use DataFrame.infer_objects()\n",
      "For all other conversions use the data-type specific converters pd.to_datetime, pd.to_timedelta and pd.to_numeric.\n",
      "  \"\"\"Entry point for launching an IPython kernel.\n"
     ]
    }
   ],
   "source": [
    "dataset01 = dataset01.convert_objects(convert_numeric=True)"
   ]
  },
  {
   "cell_type": "code",
   "execution_count": 18,
   "metadata": {
    "ExecuteTime": {
     "end_time": "2019-03-12T07:46:39.735813Z",
     "start_time": "2019-03-12T07:46:39.641032Z"
    }
   },
   "outputs": [],
   "source": [
    "def print_result(model, x_train, y_train, x_test):\n",
    "    model.fit(x_train, y_train)\n",
    "    y_train_pred = model.predict(x_train)\n",
    "    y_train_proba = model.predict_proba(x_train)[:, 1]\n",
    "    print('----Training Report----')\n",
    "    model.report(y_train, y_train_pred, y_train_proba)\n",
    "    print('----Test Report----')\n",
    "    y_test_pred = model.predict(x_test)\n",
    "    y_test_proba = model.predict_proba(x_test)[:, 1]\n",
    "    model.report(y_test, y_test_pred, y_test_proba)"
   ]
  },
  {
   "cell_type": "code",
   "execution_count": 19,
   "metadata": {
    "ExecuteTime": {
     "end_time": "2019-03-12T07:46:39.852510Z",
     "start_time": "2019-03-12T07:46:39.737773Z"
    }
   },
   "outputs": [],
   "source": [
    "x_train, x_test, y_train, y_test = train_test_split(dataset01, y, test_size=0.2, random_state=666)\n",
    "x_train_scale = minmax_scale(x_train)\n",
    "x_test_scale = minmax_scale(x_test)"
   ]
  },
  {
   "cell_type": "code",
   "execution_count": 20,
   "metadata": {
    "ExecuteTime": {
     "end_time": "2019-03-12T07:46:45.383726Z",
     "start_time": "2019-03-12T07:46:39.854462Z"
    }
   },
   "outputs": [
    {
     "name": "stdout",
     "output_type": "stream",
     "text": [
      "----Training Report----\n",
      "SVC report：\n",
      "              precision    recall  f1-score   support\n",
      "\n",
      "          0       0.79      0.98      0.88      2863\n",
      "          1       0.82      0.22      0.35       940\n",
      "\n",
      "avg / total       0.80      0.80      0.75      3803\n",
      "\n",
      "SVC AUC：\n",
      " 0.8076545209979117\n",
      "----Test Report----\n",
      "SVC report：\n",
      "              precision    recall  f1-score   support\n",
      "\n",
      "          0       0.76      0.99      0.86       698\n",
      "          1       0.80      0.16      0.26       253\n",
      "\n",
      "avg / total       0.77      0.77      0.70       951\n",
      "\n",
      "SVC AUC：\n",
      " 0.7789335991030273\n"
     ]
    }
   ],
   "source": [
    "LinearSVC = SVC(kernel='linear', probability=True)\n",
    "svcmodel = SklearnWrapper(LinearSVC)\n",
    "print_result(svcmodel, x_train_scale, y_train, x_test_scale)"
   ]
  },
  {
   "cell_type": "code",
   "execution_count": 21,
   "metadata": {
    "ExecuteTime": {
     "end_time": "2019-03-12T07:46:46.308210Z",
     "start_time": "2019-03-12T07:46:45.384679Z"
    }
   },
   "outputs": [
    {
     "name": "stdout",
     "output_type": "stream",
     "text": [
      "----Training Report----\n",
      "XGBClassifier report：\n",
      "              precision    recall  f1-score   support\n",
      "\n",
      "          0       0.85      0.98      0.91      2863\n",
      "          1       0.86      0.47      0.61       940\n",
      "\n",
      "avg / total       0.85      0.85      0.83      3803\n",
      "\n",
      "XGBClassifier AUC：\n",
      " 0.9034508512867769\n",
      "----Test Report----\n",
      "XGBClassifier report：\n",
      "              precision    recall  f1-score   support\n",
      "\n",
      "          0       0.80      0.95      0.87       698\n",
      "          1       0.69      0.34      0.46       253\n",
      "\n",
      "avg / total       0.77      0.78      0.76       951\n",
      "\n",
      "XGBClassifier AUC：\n",
      " 0.7894775586939533\n"
     ]
    },
    {
     "name": "stderr",
     "output_type": "stream",
     "text": [
      "C:\\Users\\hotheat\\Anaconda3\\lib\\site-packages\\sklearn\\preprocessing\\label.py:151: DeprecationWarning: The truth value of an empty array is ambiguous. Returning False, but in future this will result in an error. Use `array.size > 0` to check that an array is not empty.\n",
      "  if diff:\n",
      "C:\\Users\\hotheat\\Anaconda3\\lib\\site-packages\\sklearn\\preprocessing\\label.py:151: DeprecationWarning: The truth value of an empty array is ambiguous. Returning False, but in future this will result in an error. Use `array.size > 0` to check that an array is not empty.\n",
      "  if diff:\n"
     ]
    }
   ],
   "source": [
    "xgbClassifier = XGBClassifier()\n",
    "xgbmodel = SklearnWrapper(xgbClassifier)\n",
    "print_result(xgbmodel, x_train, y_train, x_test)"
   ]
  },
  {
   "cell_type": "markdown",
   "metadata": {},
   "source": [
    "# 无关特征删除"
   ]
  },
  {
   "cell_type": "markdown",
   "metadata": {},
   "source": [
    "## 类别特征"
   ]
  },
  {
   "cell_type": "markdown",
   "metadata": {},
   "source": [
    "### bank_card_no 和 source"
   ]
  },
  {
   "cell_type": "markdown",
   "metadata": {},
   "source": [
    "bank_card_no 和 source unique 等于 1，删除"
   ]
  },
  {
   "cell_type": "code",
   "execution_count": 22,
   "metadata": {
    "ExecuteTime": {
     "end_time": "2019-03-12T07:46:46.418944Z",
     "start_time": "2019-03-12T07:46:46.309237Z"
    }
   },
   "outputs": [],
   "source": [
    "train_test.drop(['bank_card_no', 'source'], axis=1, inplace=True)"
   ]
  },
  {
   "cell_type": "markdown",
   "metadata": {},
   "source": [
    "### trade_no"
   ]
  },
  {
   "cell_type": "code",
   "execution_count": 23,
   "metadata": {
    "ExecuteTime": {
     "end_time": "2019-03-12T07:46:46.521638Z",
     "start_time": "2019-03-12T07:46:46.419909Z"
    }
   },
   "outputs": [
    {
     "data": {
      "text/plain": [
       "0    20180507115231274000000023057383\n",
       "1    20180507121002192000000023073000\n",
       "2    20180507125159718000000023114911\n",
       "3    20180507121358683000000388283484\n",
       "4    20180507115448545000000388205844\n",
       "5    20180507121233054000000388275132\n",
       "6    20180507121931540000000388298915\n",
       "7    20180507124659235000000023105807\n",
       "8    20180507115855621000000388224458\n",
       "9    20180504155156296000000021138084\n",
       "Name: trade_no, dtype: object"
      ]
     },
     "execution_count": 23,
     "metadata": {},
     "output_type": "execute_result"
    }
   ],
   "source": [
    "train_test['trade_no'].head(10)"
   ]
  },
  {
   "cell_type": "code",
   "execution_count": 24,
   "metadata": {
    "ExecuteTime": {
     "end_time": "2019-03-12T07:46:46.619377Z",
     "start_time": "2019-03-12T07:46:46.523632Z"
    }
   },
   "outputs": [],
   "source": [
    "def parse_trade_no(array):\n",
    "    lst = [array[:4], array[4:6], array[6:8], array[-10:]]\n",
    "    return lst"
   ]
  },
  {
   "cell_type": "code",
   "execution_count": 25,
   "metadata": {
    "ExecuteTime": {
     "end_time": "2019-03-12T07:46:46.724143Z",
     "start_time": "2019-03-12T07:46:46.621373Z"
    }
   },
   "outputs": [],
   "source": [
    "tradeno_df = pd.DataFrame(train_test['trade_no'].apply(parse_trade_no).values.tolist(), columns=['tradeno_year', 'tradeno_month', 'tradeno_day', 'tradeno_id'])"
   ]
  },
  {
   "cell_type": "code",
   "execution_count": 26,
   "metadata": {
    "ExecuteTime": {
     "end_time": "2019-03-12T07:46:46.851786Z",
     "start_time": "2019-03-12T07:46:46.725093Z"
    }
   },
   "outputs": [
    {
     "data": {
      "text/html": [
       "<div>\n",
       "<style scoped>\n",
       "    .dataframe tbody tr th:only-of-type {\n",
       "        vertical-align: middle;\n",
       "    }\n",
       "\n",
       "    .dataframe tbody tr th {\n",
       "        vertical-align: top;\n",
       "    }\n",
       "\n",
       "    .dataframe thead th {\n",
       "        text-align: right;\n",
       "    }\n",
       "</style>\n",
       "<table border=\"1\" class=\"dataframe\">\n",
       "  <thead>\n",
       "    <tr style=\"text-align: right;\">\n",
       "      <th></th>\n",
       "      <th>tradeno_year</th>\n",
       "      <th>tradeno_month</th>\n",
       "      <th>tradeno_day</th>\n",
       "      <th>tradeno_id</th>\n",
       "    </tr>\n",
       "  </thead>\n",
       "  <tbody>\n",
       "    <tr>\n",
       "      <th>count</th>\n",
       "      <td>4754</td>\n",
       "      <td>4754</td>\n",
       "      <td>4754</td>\n",
       "      <td>4754</td>\n",
       "    </tr>\n",
       "    <tr>\n",
       "      <th>unique</th>\n",
       "      <td>1</td>\n",
       "      <td>1</td>\n",
       "      <td>3</td>\n",
       "      <td>4754</td>\n",
       "    </tr>\n",
       "    <tr>\n",
       "      <th>top</th>\n",
       "      <td>2018</td>\n",
       "      <td>05</td>\n",
       "      <td>07</td>\n",
       "      <td>0388250088</td>\n",
       "    </tr>\n",
       "    <tr>\n",
       "      <th>freq</th>\n",
       "      <td>4754</td>\n",
       "      <td>4754</td>\n",
       "      <td>3682</td>\n",
       "      <td>1</td>\n",
       "    </tr>\n",
       "  </tbody>\n",
       "</table>\n",
       "</div>"
      ],
      "text/plain": [
       "       tradeno_year tradeno_month tradeno_day  tradeno_id\n",
       "count          4754          4754        4754        4754\n",
       "unique            1             1           3        4754\n",
       "top            2018            05          07  0388250088\n",
       "freq           4754          4754        3682           1"
      ]
     },
     "execution_count": 26,
     "metadata": {},
     "output_type": "execute_result"
    }
   ],
   "source": [
    "tradeno_df.describe()"
   ]
  },
  {
   "cell_type": "code",
   "execution_count": 27,
   "metadata": {
    "ExecuteTime": {
     "end_time": "2019-03-12T07:46:46.960464Z",
     "start_time": "2019-03-12T07:46:46.852803Z"
    }
   },
   "outputs": [
    {
     "data": {
      "text/plain": [
       "07    3682\n",
       "04    1062\n",
       "08      10\n",
       "Name: tradeno_day, dtype: int64"
      ]
     },
     "execution_count": 27,
     "metadata": {},
     "output_type": "execute_result"
    }
   ],
   "source": [
    "tradeno_df['tradeno_day'].value_counts()"
   ]
  },
  {
   "cell_type": "markdown",
   "metadata": {},
   "source": [
    "trade_no 字段像个 id 字段，假设前 8 位是年月日信息，可以看出 trade_no 均是在 2018 年 5 月份，tradeno_id 各不相同，保留 tradeno_day，其他的信息删除。"
   ]
  },
  {
   "cell_type": "code",
   "execution_count": 28,
   "metadata": {
    "ExecuteTime": {
     "end_time": "2019-03-12T07:46:47.064187Z",
     "start_time": "2019-03-12T07:46:46.961463Z"
    }
   },
   "outputs": [],
   "source": [
    "train_test = pd.concat((train_test.drop('trade_no', axis=1), tradeno_df['tradeno_day']), axis=1)"
   ]
  },
  {
   "cell_type": "code",
   "execution_count": 29,
   "metadata": {
    "ExecuteTime": {
     "end_time": "2019-03-12T07:46:47.162922Z",
     "start_time": "2019-03-12T07:46:47.065186Z"
    }
   },
   "outputs": [
    {
     "data": {
      "text/plain": [
       "07    3682\n",
       "04    1062\n",
       "08      10\n",
       "Name: tradeno_day, dtype: int64"
      ]
     },
     "execution_count": 29,
     "metadata": {},
     "output_type": "execute_result"
    }
   ],
   "source": [
    "train_test['tradeno_day'].value_counts()"
   ]
  },
  {
   "cell_type": "code",
   "execution_count": 30,
   "metadata": {
    "ExecuteTime": {
     "end_time": "2019-03-12T07:46:47.549890Z",
     "start_time": "2019-03-12T07:46:47.163921Z"
    }
   },
   "outputs": [
    {
     "name": "stderr",
     "output_type": "stream",
     "text": [
      "C:\\Users\\hotheat\\Anaconda3\\lib\\site-packages\\scipy\\stats\\stats.py:1713: FutureWarning: Using a non-tuple sequence for multidimensional indexing is deprecated; use `arr[tuple(seq)]` instead of `arr[seq]`. In the future this will be interpreted as an array index, `arr[np.array(seq)]`, which will result either in an error or a different result.\n",
      "  return np.add.reduce(sorted[indexer] * weights, axis=axis) / sumval\n"
     ]
    },
    {
     "data": {
      "text/plain": [
       "<matplotlib.axes._subplots.AxesSubplot at 0x1857a905208>"
      ]
     },
     "execution_count": 30,
     "metadata": {},
     "output_type": "execute_result"
    },
    {
     "data": {
      "image/png": "[encoded data removed]",
      "text/plain": [
       "<Figure size 432x288 with 1 Axes>"
      ]
     },
     "metadata": {},
     "output_type": "display_data"
    }
   ],
   "source": [
    "sns.barplot(data=pd.concat((train_test.loc[:x.shape[0]], y), axis=1), x='tradeno_day', y='status')"
   ]
  },
  {
   "cell_type": "markdown",
   "metadata": {},
   "source": [
    "### id_name"
   ]
  },
  {
   "cell_type": "markdown",
   "metadata": {},
   "source": [
    "找出出现次数比较多的人名，看看逾期率"
   ]
  },
  {
   "cell_type": "code",
   "execution_count": 31,
   "metadata": {
    "ExecuteTime": {
     "end_time": "2019-03-12T07:46:47.663628Z",
     "start_time": "2019-03-12T07:46:47.551883Z"
    }
   },
   "outputs": [],
   "source": [
    "idname_count=train_test['id_name'].value_counts()\n",
    "idname_count = idname_count[idname_count>=4]\n",
    "idn_df = train_test[train_test['id_name'].isin(idname_count.index)]"
   ]
  },
  {
   "cell_type": "code",
   "execution_count": 32,
   "metadata": {
    "ExecuteTime": {
     "end_time": "2019-03-12T07:46:48.157266Z",
     "start_time": "2019-03-12T07:46:47.664581Z"
    }
   },
   "outputs": [
    {
     "name": "stderr",
     "output_type": "stream",
     "text": [
      "C:\\Users\\hotheat\\Anaconda3\\lib\\site-packages\\scipy\\stats\\stats.py:1713: FutureWarning: Using a non-tuple sequence for multidimensional indexing is deprecated; use `arr[tuple(seq)]` instead of `arr[seq]`. In the future this will be interpreted as an array index, `arr[np.array(seq)]`, which will result either in an error or a different result.\n",
      "  return np.add.reduce(sorted[indexer] * weights, axis=axis) / sumval\n"
     ]
    },
    {
     "data": {
      "text/plain": [
       "<matplotlib.axes._subplots.AxesSubplot at 0x185783f8b00>"
      ]
     },
     "execution_count": 32,
     "metadata": {},
     "output_type": "execute_result"
    },
    {
     "data": {
      "image/png": "[encoded data removed]",
      "text/plain": [
       "<Figure size 432x288 with 1 Axes>"
      ]
     },
     "metadata": {},
     "output_type": "display_data"
    }
   ],
   "source": [
    "sns.barplot(data=pd.concat((idn_df, y), axis=1), x='id_name', y='status')"
   ]
  },
  {
   "cell_type": "markdown",
   "metadata": {},
   "source": [
    "李明这个人逾期率挺高的，重点提出来作为类别变量"
   ]
  },
  {
   "cell_type": "code",
   "execution_count": null,
   "metadata": {
    "ExecuteTime": {
     "start_time": "2019-03-12T07:46:34.826Z"
    }
   },
   "outputs": [],
   "source": [
    "train_test['is_Li_Ming'] = (df['id_name'] == '李明').apply(int)\n",
    "train_test.drop('id_name', inplace=True, axis=1)"
   ]
  },
  {
   "cell_type": "markdown",
   "metadata": {},
   "source": [
    "## 数值特征"
   ]
  },
  {
   "cell_type": "code",
   "execution_count": null,
   "metadata": {
    "ExecuteTime": {
     "start_time": "2019-03-12T07:46:34.832Z"
    }
   },
   "outputs": [],
   "source": [
    "value_cols = train_test.describe().columns"
   ]
  },
  {
   "cell_type": "code",
   "execution_count": null,
   "metadata": {
    "ExecuteTime": {
     "start_time": "2019-03-12T07:46:34.838Z"
    }
   },
   "outputs": [],
   "source": [
    "train_test[value_cols].nunique().describe()"
   ]
  },
  {
   "cell_type": "code",
   "execution_count": null,
   "metadata": {
    "ExecuteTime": {
     "start_time": "2019-03-12T07:46:34.845Z"
    }
   },
   "outputs": [],
   "source": [
    "train_test[value_cols].nunique().plot(kind='bar', logy=True)"
   ]
  },
  {
   "cell_type": "code",
   "execution_count": null,
   "metadata": {
    "ExecuteTime": {
     "start_time": "2019-03-12T07:46:34.851Z"
    }
   },
   "outputs": [],
   "source": [
    "print('数值特征 unique < 10 个数：', len(train_test[value_cols].columns[train_test[value_cols].nunique()<10]))\n",
    "print('数值特征 unique < 20 个数：', len(train_test[value_cols].columns[train_test[value_cols].nunique()<20]))\n",
    "print('数值特征 unique < 30 个数：', len(train_test[value_cols].columns[train_test[value_cols].nunique()<30]))"
   ]
  },
  {
   "cell_type": "code",
   "execution_count": null,
   "metadata": {
    "ExecuteTime": {
     "start_time": "2019-03-12T07:46:34.856Z"
    }
   },
   "outputs": [],
   "source": [
    "print('全部为 unique 的特征', train_test[value_cols].columns[train_test[value_cols].nunique()==len(train_test)])"
   ]
  },
  {
   "cell_type": "markdown",
   "metadata": {},
   "source": [
    "从 unique 数量来讲，没有 unique == 1 的情况，先不予删除。"
   ]
  },
  {
   "cell_type": "markdown",
   "metadata": {},
   "source": [
    "### custid"
   ]
  },
  {
   "cell_type": "markdown",
   "metadata": {},
   "source": [
    "custid 范围中 100~400W，如果假设注册越早，id 越小，看一下 id 大小与逾期率的关系。"
   ]
  },
  {
   "cell_type": "code",
   "execution_count": null,
   "metadata": {
    "ExecuteTime": {
     "start_time": "2019-03-12T07:46:34.862Z"
    }
   },
   "outputs": [],
   "source": [
    "custid_range = [1, 1e4, 1e5, 1e6, 2.5e6, 5e6]"
   ]
  },
  {
   "cell_type": "code",
   "execution_count": null,
   "metadata": {
    "ExecuteTime": {
     "start_time": "2019-03-12T07:46:34.870Z"
    }
   },
   "outputs": [],
   "source": [
    "train_test['cust_id_bin'] = pd.cut(train_test['custid'], bins=custid_range, labels=[str(i) for i in custid_range][:-1]).astype('float')\n",
    "train_test.drop('custid', axis=1, inplace=True)"
   ]
  },
  {
   "cell_type": "code",
   "execution_count": null,
   "metadata": {
    "ExecuteTime": {
     "start_time": "2019-03-12T07:46:34.878Z"
    }
   },
   "outputs": [],
   "source": [
    "sns.barplot(data=pd.concat((train_test, y),axis=1), x='cust_id_bin', y='status')"
   ]
  },
  {
   "cell_type": "markdown",
   "metadata": {},
   "source": [
    "正如猜想的一样，id 越小，逾期率越低，可能原因是越最近注册的，是新用户，紧急用钱，越可能逾期。先保留 id 这个特征。"
   ]
  },
  {
   "cell_type": "markdown",
   "metadata": {},
   "source": [
    "### Unnamed: 0"
   ]
  },
  {
   "cell_type": "code",
   "execution_count": null,
   "metadata": {
    "ExecuteTime": {
     "start_time": "2019-03-12T07:46:34.883Z"
    }
   },
   "outputs": [],
   "source": [
    "sum(train_test['Unnamed: 0'].diff(1)>0)"
   ]
  },
  {
   "cell_type": "code",
   "execution_count": null,
   "metadata": {
    "ExecuteTime": {
     "start_time": "2019-03-12T07:46:34.889Z"
    }
   },
   "outputs": [],
   "source": [
    "len(train_test)"
   ]
  },
  {
   "cell_type": "markdown",
   "metadata": {},
   "source": [
    "Unnamed: 0 这个特征数值是递增的，删除"
   ]
  },
  {
   "cell_type": "code",
   "execution_count": null,
   "metadata": {
    "ExecuteTime": {
     "start_time": "2019-03-12T07:46:34.894Z"
    }
   },
   "outputs": [],
   "source": [
    "train_test.drop('Unnamed: 0', axis=1, inplace=True)"
   ]
  },
  {
   "cell_type": "code",
   "execution_count": null,
   "metadata": {
    "ExecuteTime": {
     "start_time": "2019-03-12T07:46:34.899Z"
    }
   },
   "outputs": [],
   "source": [
    "train_test.describe(include='O')"
   ]
  },
  {
   "cell_type": "code",
   "execution_count": null,
   "metadata": {
    "ExecuteTime": {
     "start_time": "2019-03-12T07:46:34.905Z"
    },
    "scrolled": true
   },
   "outputs": [],
   "source": [
    "dataset02 = train_test.drop([\"latest_query_time\",\"loans_latest_time\"], axis=1)\n",
    "# 用众数填充缺失值\n",
    "for c in dataset02.columns:\n",
    "    dataset02.loc[dataset02[c].isnull(), c] = dataset02[c].mode()[0]\n",
    "dataset02[\"student_feature\"] = dataset02[\"student_feature\"].replace([2],[0])\n",
    "dataset02['reg_preference_for_trad'] = dataset02['reg_preference_for_trad'].map(city_map)\n",
    "dataset02 = dataset02.convert_objects(convert_numeric=True)\n",
    "dataset02 = minmax_scale(dataset02)\n",
    "x_train, x_test, y_train, y_test = train_test_split(dataset02, y, test_size=0.2, random_state=666)\n",
    "LinearSVC = SVC(kernel='linear', probability=True)\n",
    "svcmodel = SklearnWrapper(LinearSVC)\n",
    "print_result(svcmodel, x_train, y_train, x_test)"
   ]
  },
  {
   "cell_type": "markdown",
   "metadata": {},
   "source": [
    "# 数据类型转换"
   ]
  },
  {
   "cell_type": "code",
   "execution_count": null,
   "metadata": {
    "ExecuteTime": {
     "start_time": "2019-03-12T07:46:34.911Z"
    }
   },
   "outputs": [],
   "source": [
    "train_test.describe(include='O')"
   ]
  },
  {
   "cell_type": "markdown",
   "metadata": {},
   "source": [
    "## reg_preference_for_trad"
   ]
  },
  {
   "cell_type": "code",
   "execution_count": null,
   "metadata": {
    "ExecuteTime": {
     "start_time": "2019-03-12T07:46:34.916Z"
    }
   },
   "outputs": [],
   "source": [
    "train_test['reg_preference_for_trad'].value_counts()"
   ]
  },
  {
   "cell_type": "markdown",
   "metadata": {},
   "source": [
    "城市之间存在大小差别，采用自然数编码"
   ]
  },
  {
   "cell_type": "code",
   "execution_count": null,
   "metadata": {
    "ExecuteTime": {
     "start_time": "2019-03-12T07:46:34.922Z"
    }
   },
   "outputs": [],
   "source": [
    "city_map = {'一线城市':1, '二线城市':2, '三线城市':3, '其他城市':0, '境外':5}"
   ]
  },
  {
   "cell_type": "code",
   "execution_count": null,
   "metadata": {
    "ExecuteTime": {
     "start_time": "2019-03-12T07:46:34.928Z"
    }
   },
   "outputs": [],
   "source": [
    "train_test['reg_preference_for_trad'] = train_test['reg_preference_for_trad'].map(city_map)"
   ]
  },
  {
   "cell_type": "code",
   "execution_count": null,
   "metadata": {
    "ExecuteTime": {
     "start_time": "2019-03-12T07:46:34.934Z"
    }
   },
   "outputs": [],
   "source": [
    "sns.barplot(data=pd.concat((train_test, y), axis=1), x='reg_preference_for_trad', y='status')"
   ]
  },
  {
   "cell_type": "markdown",
   "metadata": {},
   "source": [
    "## tradeno_day"
   ]
  },
  {
   "cell_type": "code",
   "execution_count": null,
   "metadata": {
    "ExecuteTime": {
     "start_time": "2019-03-12T07:46:34.939Z"
    }
   },
   "outputs": [],
   "source": [
    "train_test['tradeno_day'] = train_test['tradeno_day'].astype('int')"
   ]
  },
  {
   "cell_type": "code",
   "execution_count": null,
   "metadata": {
    "ExecuteTime": {
     "start_time": "2019-03-12T07:46:34.944Z"
    },
    "scrolled": true
   },
   "outputs": [],
   "source": [
    "train_test.describe(include='O')"
   ]
  },
  {
   "cell_type": "markdown",
   "metadata": {},
   "source": [
    "# 处理数值特征"
   ]
  },
  {
   "cell_type": "markdown",
   "metadata": {},
   "source": [
    "对于数值特征会出现一些较大和较小的异常值，采用分位数处理。"
   ]
  },
  {
   "cell_type": "code",
   "execution_count": null,
   "metadata": {
    "ExecuteTime": {
     "start_time": "2019-03-12T07:46:34.950Z"
    }
   },
   "outputs": [],
   "source": [
    "featnames = [i for i in train_test.columns if train_test[i].dtype in [np.int64, np.float]]"
   ]
  },
  {
   "cell_type": "code",
   "execution_count": null,
   "metadata": {
    "ExecuteTime": {
     "start_time": "2019-03-12T07:46:34.955Z"
    }
   },
   "outputs": [],
   "source": [
    "for i in featnames:\n",
    "    train_test[i][train_test[i] > np.percentile(\n",
    "        train_test[i][train_test[i].notnull()], 99.9)] = np.percentile(train_test[i], 99.9)\n",
    "    train_test[i][train_test[i] < np.percentile(\n",
    "        train_test[i][train_test[i].notnull()], 0.01)] = np.percentile(train_test[i], 0.01)"
   ]
  },
  {
   "cell_type": "code",
   "execution_count": null,
   "metadata": {
    "ExecuteTime": {
     "start_time": "2019-03-12T07:46:34.961Z"
    }
   },
   "outputs": [],
   "source": [
    "train_test.describe()"
   ]
  },
  {
   "cell_type": "markdown",
   "metadata": {},
   "source": [
    "# 缺失值处理"
   ]
  },
  {
   "cell_type": "code",
   "execution_count": null,
   "metadata": {
    "ExecuteTime": {
     "start_time": "2019-03-12T07:46:34.966Z"
    },
    "scrolled": true
   },
   "outputs": [],
   "source": [
    "nan_prop = train_test.isnull().sum(axis=0)[train_test.isnull().sum(axis=0)!=0]/train_test.shape[0]\n",
    "plt.plot(nan_prop)"
   ]
  },
  {
   "cell_type": "markdown",
   "metadata": {},
   "source": [
    "## 缺失值处理"
   ]
  },
  {
   "cell_type": "markdown",
   "metadata": {},
   "source": [
    "缺失值大概分成三类，比例在 60%，5%~10%, 1% 左右"
   ]
  },
  {
   "cell_type": "markdown",
   "metadata": {},
   "source": [
    "### 缺失比例>10%"
   ]
  },
  {
   "cell_type": "markdown",
   "metadata": {},
   "source": [
    "只有一列，转换成 one-hot 编码"
   ]
  },
  {
   "cell_type": "code",
   "execution_count": null,
   "metadata": {
    "ExecuteTime": {
     "start_time": "2019-03-12T07:46:34.974Z"
    }
   },
   "outputs": [],
   "source": [
    "nan100 = train_test[train_test.columns[train_test.isnull().sum(0)/train_test.shape[0]>0.1]]"
   ]
  },
  {
   "cell_type": "code",
   "execution_count": null,
   "metadata": {
    "ExecuteTime": {
     "start_time": "2019-03-12T07:46:34.982Z"
    }
   },
   "outputs": [],
   "source": [
    "nan100['student_feature'].value_counts()"
   ]
  },
  {
   "cell_type": "code",
   "execution_count": null,
   "metadata": {
    "ExecuteTime": {
     "start_time": "2019-03-12T07:46:34.988Z"
    }
   },
   "outputs": [],
   "source": [
    "def parse_student_feature(array):\n",
    "    lst = [0, 0]\n",
    "    if array == 1:\n",
    "        lst[0] = 1\n",
    "    elif array == 2:\n",
    "        lst[1] = 1\n",
    "    return lst"
   ]
  },
  {
   "cell_type": "code",
   "execution_count": null,
   "metadata": {
    "ExecuteTime": {
     "start_time": "2019-03-12T07:46:34.993Z"
    }
   },
   "outputs": [],
   "source": [
    "stu_featdf = pd.DataFrame(train_test['student_feature'].apply(parse_student_feature).values.tolist(\n",
    "), columns=['student_feat_1', 'student_feat_2'])"
   ]
  },
  {
   "cell_type": "code",
   "execution_count": null,
   "metadata": {
    "ExecuteTime": {
     "start_time": "2019-03-12T07:46:34.999Z"
    }
   },
   "outputs": [],
   "source": [
    "sns.barplot(data=pd.concat((train_test['student_feature'].isnull(), y), axis=1), x='student_feature', y='status')"
   ]
  },
  {
   "cell_type": "markdown",
   "metadata": {},
   "source": [
    "student 是否缺失与逾期率相差不大"
   ]
  },
  {
   "cell_type": "code",
   "execution_count": null,
   "metadata": {
    "ExecuteTime": {
     "start_time": "2019-03-12T07:46:35.005Z"
    }
   },
   "outputs": [],
   "source": [
    "train_test = pd.concat((train_test.drop('student_feature', axis=1), stu_featdf), axis=1)"
   ]
  },
  {
   "cell_type": "code",
   "execution_count": null,
   "metadata": {
    "ExecuteTime": {
     "start_time": "2019-03-12T07:46:35.009Z"
    }
   },
   "outputs": [],
   "source": [
    "# 用众数填充剩下的缺失值\n",
    "for c in train_test.columns:\n",
    "    train_test.loc[train_test[c].isnull(), c] = train_test[c].mode()[0]"
   ]
  },
  {
   "cell_type": "code",
   "execution_count": null,
   "metadata": {
    "ExecuteTime": {
     "start_time": "2019-03-12T07:46:35.018Z"
    }
   },
   "outputs": [],
   "source": [
    "dataset03 = train_test.drop([\"latest_query_time\",\"loans_latest_time\"], axis=1)\n",
    "\n",
    "dataset03 = dataset03.convert_objects(convert_numeric=True)\n",
    "dataset03 = minmax_scale(dataset03)\n",
    "x_train, x_test, y_train, y_test = train_test_split(dataset03, y, test_size=0.2, random_state=666)\n",
    "LinearSVC = SVC(kernel='linear', probability=True)\n",
    "svcmodel = SklearnWrapper(LinearSVC)\n",
    "print_result(svcmodel, x_train, y_train, x_test)"
   ]
  },
  {
   "cell_type": "markdown",
   "metadata": {},
   "source": [
    "## 时间特征"
   ]
  },
  {
   "cell_type": "code",
   "execution_count": null,
   "metadata": {
    "ExecuteTime": {
     "start_time": "2019-03-12T07:46:35.024Z"
    }
   },
   "outputs": [],
   "source": [
    "time_feat = train_test[['latest_query_time', 'loans_latest_time']]"
   ]
  },
  {
   "cell_type": "code",
   "execution_count": null,
   "metadata": {
    "ExecuteTime": {
     "start_time": "2019-03-12T07:46:35.031Z"
    }
   },
   "outputs": [],
   "source": [
    "train_test['latest_query_time_year'] = pd.to_datetime(train_test['latest_query_time']).dt.year\n",
    "train_test['latest_query_time_month'] = pd.to_datetime(train_test['latest_query_time']).dt.month\n",
    "train_test['latest_query_time_dayofyear'] = pd.to_datetime(train_test['latest_query_time']).dt.dayofyear\n",
    "train_test['latest_query_time_dayofweek'] = pd.to_datetime(train_test['latest_query_time']).dt.dayofweek\n",
    "train_test['latest_query_time_weekday'] =(train_test['latest_query_time_dayofweek']<=5).apply(int)"
   ]
  },
  {
   "cell_type": "code",
   "execution_count": null,
   "metadata": {
    "ExecuteTime": {
     "start_time": "2019-03-12T07:46:35.035Z"
    }
   },
   "outputs": [],
   "source": [
    "sns.barplot(data=pd.concat(\n",
    "    (train_test['latest_query_time_year'], y), axis=1), x='latest_query_time_year', y='status')"
   ]
  },
  {
   "cell_type": "code",
   "execution_count": null,
   "metadata": {
    "ExecuteTime": {
     "start_time": "2019-03-12T07:46:35.042Z"
    }
   },
   "outputs": [],
   "source": [
    "sns.barplot(data=pd.concat(\n",
    "    (train_test['latest_query_time_month'], y), axis=1), x='latest_query_time_month', y='status')"
   ]
  },
  {
   "cell_type": "code",
   "execution_count": null,
   "metadata": {
    "ExecuteTime": {
     "start_time": "2019-03-12T07:46:35.045Z"
    }
   },
   "outputs": [],
   "source": [
    "train_test['loans_latest_time_year'] = pd.to_datetime(train_test['loans_latest_time']).dt.year\n",
    "train_test['loans_latest_time_month'] = pd.to_datetime(train_test['loans_latest_time']).dt.month\n",
    "train_test['loans_latest_time_dayofyear'] = pd.to_datetime(train_test['loans_latest_time']).dt.dayofyear\n",
    "train_test['loans_latest_time_dayofweek'] = pd.to_datetime(train_test['loans_latest_time']).dt.dayofweek\n",
    "train_test['loans_latest_time_weekday'] =(train_test['loans_latest_time_dayofweek']<=5).apply(int)"
   ]
  },
  {
   "cell_type": "code",
   "execution_count": null,
   "metadata": {
    "ExecuteTime": {
     "start_time": "2019-03-12T07:46:35.049Z"
    }
   },
   "outputs": [],
   "source": [
    "train_test['interval_query_loan_time'] = pd.to_datetime(\n",
    "    train_test['latest_query_time'])-pd.to_datetime(train_test['loans_latest_time'])\n",
    "train_test['interval_query_loan_time'] = train_test['interval_query_loan_time'].apply(lambda x:x.days)"
   ]
  },
  {
   "cell_type": "code",
   "execution_count": null,
   "metadata": {
    "ExecuteTime": {
     "start_time": "2019-03-12T07:46:35.055Z"
    }
   },
   "outputs": [],
   "source": [
    "sns.barplot(data=pd.concat(\n",
    "    (train_test['latest_query_time_month'], y), axis=1), x='latest_query_time_month', y='status')"
   ]
  },
  {
   "cell_type": "code",
   "execution_count": null,
   "metadata": {
    "ExecuteTime": {
     "start_time": "2019-03-12T07:46:35.061Z"
    }
   },
   "outputs": [],
   "source": [
    "sns.boxenplot(data=pd.concat(\n",
    "    (train_test['interval_query_loan_time'], y), axis=1), y='interval_query_loan_time', x='status')"
   ]
  },
  {
   "cell_type": "code",
   "execution_count": null,
   "metadata": {
    "ExecuteTime": {
     "start_time": "2019-03-12T07:46:35.065Z"
    }
   },
   "outputs": [],
   "source": [
    "train_test.drop(['loans_latest_time', 'latest_query_time'], axis=1, inplace=True)"
   ]
  },
  {
   "cell_type": "code",
   "execution_count": null,
   "metadata": {
    "ExecuteTime": {
     "start_time": "2019-03-12T07:46:35.070Z"
    },
    "scrolled": true
   },
   "outputs": [],
   "source": [
    "dataset04 = train_test\n",
    "\n",
    "dataset04 = dataset04.convert_objects(convert_numeric=True)\n",
    "dataset04 = minmax_scale(dataset04)\n",
    "x_train, x_test, y_train, y_test = train_test_split(dataset04, y, test_size=0.2, random_state=666)\n",
    "LinearSVC = SVC(kernel='linear', probability=True)\n",
    "svcmodel = SklearnWrapper(LinearSVC)\n",
    "print_result(svcmodel, x_train, y_train, x_test)"
   ]
  },
  {
   "cell_type": "markdown",
   "metadata": {},
   "source": [
    "# 特征工程"
   ]
  },
  {
   "cell_type": "code",
   "execution_count": null,
   "metadata": {
    "ExecuteTime": {
     "start_time": "2019-03-12T07:46:35.075Z"
    }
   },
   "outputs": [],
   "source": [
    "corr_mat = pd.concat((train_test, y), axis=1).corr()\n",
    "plt.figure(figsize=(12,8))\n",
    "sns.heatmap(corr_mat)"
   ]
  },
  {
   "cell_type": "code",
   "execution_count": null,
   "metadata": {
    "ExecuteTime": {
     "start_time": "2019-03-12T07:46:35.084Z"
    }
   },
   "outputs": [],
   "source": [
    "corr_mat.loc['status'].sort_values(ascending=False)"
   ]
  },
  {
   "cell_type": "markdown",
   "metadata": {},
   "source": [
    "## 相关性强的特征"
   ]
  },
  {
   "cell_type": "markdown",
   "metadata": {},
   "source": [
    "### 类别特征"
   ]
  },
  {
   "cell_type": "code",
   "execution_count": null,
   "metadata": {
    "ExecuteTime": {
     "start_time": "2019-03-12T07:46:35.091Z"
    }
   },
   "outputs": [],
   "source": [
    "# nunique 小于 20 的 相关性系数\n",
    "cat_cols = train_test.nunique()[train_test.nunique()<20].index\n",
    "cat_train_test = train_test[cat_cols]\n",
    "corr_mat = pd.concat((cat_train_test, y), axis=1).corr()\n",
    "plt.figure(figsize=(12,8))\n",
    "sns.heatmap(corr_mat)"
   ]
  },
  {
   "cell_type": "code",
   "execution_count": null,
   "metadata": {
    "ExecuteTime": {
     "start_time": "2019-03-12T07:46:35.096Z"
    }
   },
   "outputs": [],
   "source": [
    "sns.scatterplot(train_test['consfin_org_count_current'], train_test['consfin_org_count_behavior'])"
   ]
  },
  {
   "cell_type": "markdown",
   "metadata": {},
   "source": [
    "consfin_org_count_current 和 consfin_org_count_behavior 相关性系数非常高，数据相同，删除一个特征，  \n",
    "并没有发现与 status 相关系数特别高的类别特征"
   ]
  },
  {
   "cell_type": "code",
   "execution_count": null,
   "metadata": {
    "ExecuteTime": {
     "start_time": "2019-03-12T07:46:35.101Z"
    }
   },
   "outputs": [],
   "source": [
    "train_test.drop('consfin_org_count_current', axis=1, inplace=True)"
   ]
  },
  {
   "cell_type": "markdown",
   "metadata": {},
   "source": [
    "### 数值特征"
   ]
  },
  {
   "cell_type": "code",
   "execution_count": null,
   "metadata": {
    "ExecuteTime": {
     "start_time": "2019-03-12T07:46:35.107Z"
    }
   },
   "outputs": [],
   "source": [
    "# nunique 大于 20 的 相关性系数\n",
    "cat_cols = train_test.nunique()[train_test.nunique()>=20].index\n",
    "cat_train_test = train_test[cat_cols]\n",
    "corr_mat = pd.concat((cat_train_test, y), axis=1).corr()\n",
    "plt.figure(figsize=(12,8))\n",
    "sns.heatmap(corr_mat)"
   ]
  },
  {
   "cell_type": "code",
   "execution_count": null,
   "metadata": {
    "ExecuteTime": {
     "start_time": "2019-03-12T07:46:35.114Z"
    }
   },
   "outputs": [],
   "source": [
    "high_corrs = []\n",
    "for i in range(corr_mat.shape[0]):\n",
    "    for j in range(i, corr_mat.shape[1]):\n",
    "        if corr_mat.values[i][j] >0.9 or corr_mat.values[i][j] <-0.9:\n",
    "            if i != j:\n",
    "                high_corrs.append((corr_mat.index[i], corr_mat.columns[j]))"
   ]
  },
  {
   "cell_type": "code",
   "execution_count": null,
   "metadata": {
    "ExecuteTime": {
     "start_time": "2019-03-12T07:46:35.119Z"
    }
   },
   "outputs": [],
   "source": [
    "high_corrs"
   ]
  },
  {
   "cell_type": "markdown",
   "metadata": {},
   "source": [
    "上述特征之间的相关系数大于 0.9"
   ]
  },
  {
   "cell_type": "code",
   "execution_count": null,
   "metadata": {
    "ExecuteTime": {
     "start_time": "2019-03-12T07:46:35.123Z"
    }
   },
   "outputs": [],
   "source": [
    "def scatter_corr(idx, ax):\n",
    "    c1, c2 = high_corrs[idx]\n",
    "    sns.scatterplot(train_test[c1], train_test[c2], ax=ax)"
   ]
  },
  {
   "cell_type": "code",
   "execution_count": null,
   "metadata": {
    "ExecuteTime": {
     "start_time": "2019-03-12T07:46:35.130Z"
    }
   },
   "outputs": [],
   "source": [
    "len(high_corrs)"
   ]
  },
  {
   "cell_type": "code",
   "execution_count": null,
   "metadata": {
    "ExecuteTime": {
     "start_time": "2019-03-12T07:46:35.135Z"
    }
   },
   "outputs": [],
   "source": [
    "fig, axes = plt.subplots(4, 5, figsize=(12, 15))\n",
    "axes = [j for i in axes for j in i]\n",
    "for i in range(len(high_corrs)):\n",
    "    scatter_corr(i, axes[i])\n",
    "plt.tight_layout()"
   ]
  },
  {
   "cell_type": "code",
   "execution_count": null,
   "metadata": {
    "ExecuteTime": {
     "start_time": "2019-03-12T07:46:35.140Z"
    }
   },
   "outputs": [],
   "source": [
    "high_corrs097 = []\n",
    "for i in range(corr_mat.shape[0]):\n",
    "    for j in range(i, corr_mat.shape[1]):\n",
    "        if corr_mat.values[i][j] >0.97 or corr_mat.values[i][j] <-0.97:\n",
    "            if i != j:\n",
    "                high_corrs097.append((corr_mat.index[i], corr_mat.columns[j]))"
   ]
  },
  {
   "cell_type": "code",
   "execution_count": null,
   "metadata": {
    "ExecuteTime": {
     "start_time": "2019-03-12T07:46:35.145Z"
    }
   },
   "outputs": [],
   "source": [
    "high_corrs097"
   ]
  },
  {
   "cell_type": "code",
   "execution_count": null,
   "metadata": {
    "ExecuteTime": {
     "start_time": "2019-03-12T07:46:35.149Z"
    }
   },
   "outputs": [],
   "source": [
    "to_del_highcorr = ['first_transaction_day', 'apply_score',\n",
    "                   'loans_settle_count', 'loans_org_count_current', 'loans_product_count']"
   ]
  },
  {
   "cell_type": "code",
   "execution_count": null,
   "metadata": {
    "ExecuteTime": {
     "start_time": "2019-03-12T07:46:35.153Z"
    }
   },
   "outputs": [],
   "source": [
    "train_test.drop(['loans_org_count_current', 'loans_cash_count', 'first_transaction_day', 'apply_score'], axis=1, inplace=True)"
   ]
  },
  {
   "cell_type": "markdown",
   "metadata": {},
   "source": [
    "## 删除方差很小的特征"
   ]
  },
  {
   "cell_type": "markdown",
   "metadata": {},
   "source": [
    "对于数值特征来说，方差小于 0.02 的特征数值几乎不发生变化，对模型没有作用"
   ]
  },
  {
   "cell_type": "code",
   "execution_count": null,
   "metadata": {
    "ExecuteTime": {
     "start_time": "2019-03-12T07:46:35.158Z"
    }
   },
   "outputs": [],
   "source": [
    "train_test[train_test.columns[train_test.nunique()>50]].var(0).sort_values()"
   ]
  },
  {
   "cell_type": "code",
   "execution_count": null,
   "metadata": {
    "ExecuteTime": {
     "start_time": "2019-03-12T07:46:35.166Z"
    }
   },
   "outputs": [],
   "source": [
    "train_test[[\"middle_volume_percent\", 'trans_activity_day', 'trans_activity_month']].describe()"
   ]
  },
  {
   "cell_type": "markdown",
   "metadata": {
    "ExecuteTime": {
     "end_time": "2019-03-03T13:19:00.613556Z",
     "start_time": "2019-03-03T13:18:57.345Z"
    }
   },
   "source": [
    "这三个值得方差小，因为他们是小数，考虑处理一下小数情况"
   ]
  },
  {
   "cell_type": "markdown",
   "metadata": {},
   "source": [
    "## 连续特征离散化"
   ]
  },
  {
   "cell_type": "code",
   "execution_count": null,
   "metadata": {
    "ExecuteTime": {
     "start_time": "2019-03-12T07:46:35.172Z"
    }
   },
   "outputs": [],
   "source": [
    "train_test.shape"
   ]
  },
  {
   "cell_type": "markdown",
   "metadata": {},
   "source": [
    "### 处理 [0, 1] 的小数（二值化）"
   ]
  },
  {
   "cell_type": "code",
   "execution_count": null,
   "metadata": {
    "ExecuteTime": {
     "start_time": "2019-03-12T07:46:35.178Z"
    }
   },
   "outputs": [],
   "source": [
    "numpercent_tr_te = train_test[train_test.columns[(\n",
    "    train_test.min() >= 0) & (train_test.max() <= 1)][:7]]"
   ]
  },
  {
   "cell_type": "code",
   "execution_count": null,
   "metadata": {
    "ExecuteTime": {
     "start_time": "2019-03-12T07:46:35.183Z"
    }
   },
   "outputs": [],
   "source": [
    "sns.boxenplot(data=numpercent_tr_te)"
   ]
  },
  {
   "cell_type": "code",
   "execution_count": null,
   "metadata": {
    "ExecuteTime": {
     "start_time": "2019-03-12T07:46:35.189Z"
    },
    "scrolled": true
   },
   "outputs": [],
   "source": [
    "g = sns.PairGrid(pd.concat((numpercent_tr_te, y), axis=1),\n",
    "                 x_vars=['status'],\n",
    "                 y_vars=numpercent_tr_te.columns,\n",
    "                 aspect=.75, height=3.5)\n",
    "g.map(sns.violinplot, palette=\"pastel\")"
   ]
  },
  {
   "cell_type": "markdown",
   "metadata": {},
   "source": [
    "两个 label 下，数值分布基本是一致的。  \n",
    "把小数用二值化表示，防止过拟合"
   ]
  },
  {
   "cell_type": "code",
   "execution_count": null,
   "metadata": {
    "ExecuteTime": {
     "start_time": "2019-03-12T07:46:35.193Z"
    }
   },
   "outputs": [],
   "source": [
    "bins=[0.02, 0.95, 0.9, 0.3, 0.4, 0.15, 0.5]"
   ]
  },
  {
   "cell_type": "code",
   "execution_count": null,
   "metadata": {
    "ExecuteTime": {
     "start_time": "2019-03-12T07:46:35.197Z"
    }
   },
   "outputs": [],
   "source": [
    "for i, v in enumerate(numpercent_tr_te.columns):\n",
    "    numpercent_tr_te[v] = np.where(numpercent_tr_te[v]>bins[i], 1, 0)"
   ]
  },
  {
   "cell_type": "code",
   "execution_count": null,
   "metadata": {
    "ExecuteTime": {
     "start_time": "2019-03-12T07:46:35.200Z"
    }
   },
   "outputs": [],
   "source": [
    "train_test[numpercent_tr_te.columns] = numpercent_tr_te"
   ]
  },
  {
   "cell_type": "markdown",
   "metadata": {},
   "source": [
    "### 处理整数"
   ]
  },
  {
   "cell_type": "markdown",
   "metadata": {},
   "source": [
    "从与 status 最相关的几个特征入手"
   ]
  },
  {
   "cell_type": "markdown",
   "metadata": {},
   "source": [
    "#### trans_fail_top_count_enum_last_1_month"
   ]
  },
  {
   "cell_type": "markdown",
   "metadata": {},
   "source": [
    "主要处理思路分箱计数，违约率排名"
   ]
  },
  {
   "cell_type": "code",
   "execution_count": null,
   "metadata": {
    "ExecuteTime": {
     "start_time": "2019-03-12T07:46:35.206Z"
    }
   },
   "outputs": [],
   "source": [
    "train_test['trans_fail_top_count_enum_sum'] = train_test['trans_fail_top_count_enum_last_1_month'] + \\\n",
    "    train_test['trans_fail_top_count_enum_last_6_month'] + \\\n",
    "    train_test['trans_fail_top_count_enum_last_12_month']"
   ]
  },
  {
   "cell_type": "code",
   "execution_count": null,
   "metadata": {
    "ExecuteTime": {
     "start_time": "2019-03-12T07:46:35.210Z"
    }
   },
   "outputs": [],
   "source": [
    "sns.boxenplot(data=pd.concat(\n",
    "    (train_test['trans_fail_top_count_enum_sum'], y), axis=1), y='trans_fail_top_count_enum_sum', x='status')"
   ]
  },
  {
   "cell_type": "code",
   "execution_count": null,
   "metadata": {
    "ExecuteTime": {
     "start_time": "2019-03-12T07:46:35.216Z"
    }
   },
   "outputs": [],
   "source": [
    "sns.barplot(data=pd.concat((train_test, y), axis=1), y='status', x='trans_fail_top_count_enum_last_1_month')"
   ]
  },
  {
   "cell_type": "code",
   "execution_count": null,
   "metadata": {
    "ExecuteTime": {
     "start_time": "2019-03-12T07:46:35.222Z"
    }
   },
   "outputs": [],
   "source": [
    "# 类别违约排名\n",
    "def cat_rank(train_test, train_set, col):\n",
    "    df_rank = train_set.groupby(col)['status'].mean().reset_index()\n",
    "    df_rank[col + '_rank'] = df_rank['status'].rank()\n",
    "    df_rank.drop('status', axis=1, inplace=True)\n",
    "    train_test = pd.merge(train_test, df_rank, on=col, how='left')\n",
    "    return train_test\n",
    "\n",
    "# 类别违约率\n",
    "def cat_ratio(train_test, train_set, col):\n",
    "    df_ratio = train_set.groupby(col)['status'].mean().reset_index()\n",
    "    df_ratio[col + '_ratio'] = df_ratio['status']\n",
    "    df_ratio.drop('status', axis=1, inplace=True)\n",
    "    train_test = pd.merge(train_test, df_ratio, on=col, how='left')\n",
    "    return train_test"
   ]
  },
  {
   "cell_type": "code",
   "execution_count": null,
   "metadata": {
    "ExecuteTime": {
     "start_time": "2019-03-12T07:46:35.227Z"
    }
   },
   "outputs": [],
   "source": [
    "# 类别分箱及统计\n",
    "def cat_bins_count(train_test, col, bins):\n",
    "    train_test[col+'_bins'] = pd.cut(train_test[col], bins=bins, right=False, labels=[str(i) for i in bins][1:])\n",
    "    train_test[col+'_bincount'] = train_test.groupby(col+'_bins')[col].transform('count')"
   ]
  },
  {
   "cell_type": "code",
   "execution_count": null,
   "metadata": {
    "ExecuteTime": {
     "start_time": "2019-03-12T07:46:35.232Z"
    }
   },
   "outputs": [],
   "source": [
    "bins=[0, 10, 20, 30, 40, 60, 100, 500]"
   ]
  },
  {
   "cell_type": "code",
   "execution_count": null,
   "metadata": {
    "ExecuteTime": {
     "start_time": "2019-03-12T07:46:35.237Z"
    }
   },
   "outputs": [],
   "source": [
    "cat_bins_count(train_test, 'trans_fail_top_count_enum_sum', bins)"
   ]
  },
  {
   "cell_type": "code",
   "execution_count": null,
   "metadata": {
    "ExecuteTime": {
     "start_time": "2019-03-12T07:46:35.240Z"
    }
   },
   "outputs": [],
   "source": [
    "train_test = cat_rank(train_test, pd.concat((train_test, y), axis=1), 'trans_fail_top_count_enum_sum_bins')"
   ]
  },
  {
   "cell_type": "markdown",
   "metadata": {},
   "source": [
    "#### history_fail_fee"
   ]
  },
  {
   "cell_type": "code",
   "execution_count": null,
   "metadata": {
    "ExecuteTime": {
     "start_time": "2019-03-12T07:46:35.245Z"
    }
   },
   "outputs": [],
   "source": [
    "sns.boxenplot(data=pd.concat((train_test, y), axis=1), x='status', y='history_fail_fee')"
   ]
  },
  {
   "cell_type": "code",
   "execution_count": null,
   "metadata": {
    "ExecuteTime": {
     "start_time": "2019-03-12T07:46:35.250Z"
    }
   },
   "outputs": [],
   "source": [
    "pd.concat((train_test, y), axis=1)[pd.concat((train_test, y), axis=1)['history_fail_fee']>100]['status'].mean()"
   ]
  },
  {
   "cell_type": "code",
   "execution_count": null,
   "metadata": {
    "ExecuteTime": {
     "start_time": "2019-03-12T07:46:35.254Z"
    }
   },
   "outputs": [],
   "source": [
    "bins = list(range(0, 100, 10)) + [500]"
   ]
  },
  {
   "cell_type": "markdown",
   "metadata": {},
   "source": [
    "对 history_fail_fee 进行分箱，统计每个箱子内的个数及违约率排名"
   ]
  },
  {
   "cell_type": "code",
   "execution_count": null,
   "metadata": {
    "ExecuteTime": {
     "start_time": "2019-03-12T07:46:35.259Z"
    }
   },
   "outputs": [],
   "source": [
    "cat_bins_count(train_test, 'history_fail_fee', bins)\n",
    "\n",
    "train_test = cat_rank(train_test, pd.concat((train_test, y), axis=1), 'history_fail_fee_bins')"
   ]
  },
  {
   "cell_type": "markdown",
   "metadata": {},
   "source": [
    "#### loans_overdue_count"
   ]
  },
  {
   "cell_type": "code",
   "execution_count": null,
   "metadata": {
    "ExecuteTime": {
     "start_time": "2019-03-12T07:46:35.266Z"
    }
   },
   "outputs": [],
   "source": [
    "sns.barplot(data=pd.concat((train_test, y), axis=1), x='loans_overdue_count', y='status')"
   ]
  },
  {
   "cell_type": "code",
   "execution_count": null,
   "metadata": {
    "ExecuteTime": {
     "start_time": "2019-03-12T07:46:35.270Z"
    }
   },
   "outputs": [],
   "source": [
    "pd.concat((train_test, y), axis=1)[pd.concat((train_test, y), axis=1)['loans_overdue_count']>8]['status'].mean()"
   ]
  },
  {
   "cell_type": "code",
   "execution_count": null,
   "metadata": {
    "ExecuteTime": {
     "start_time": "2019-03-12T07:46:35.274Z"
    }
   },
   "outputs": [],
   "source": [
    "bins = list(range(0, 11)) + [30]"
   ]
  },
  {
   "cell_type": "code",
   "execution_count": null,
   "metadata": {
    "ExecuteTime": {
     "start_time": "2019-03-12T07:46:35.279Z"
    }
   },
   "outputs": [],
   "source": [
    "cat_bins_count(train_test, 'loans_overdue_count', bins)\n",
    "\n",
    "train_test = cat_rank(train_test, pd.concat((train_test, y), axis=1), 'loans_overdue_count_bins')"
   ]
  },
  {
   "cell_type": "markdown",
   "metadata": {},
   "source": [
    "#### latest_one_month_fail"
   ]
  },
  {
   "cell_type": "code",
   "execution_count": null,
   "metadata": {
    "ExecuteTime": {
     "start_time": "2019-03-12T07:46:35.284Z"
    }
   },
   "outputs": [],
   "source": [
    "sns.barplot(data=pd.concat((train_test, y), axis=1), x='latest_one_month_fail', y='status')"
   ]
  },
  {
   "cell_type": "code",
   "execution_count": null,
   "metadata": {
    "ExecuteTime": {
     "start_time": "2019-03-12T07:46:35.288Z"
    }
   },
   "outputs": [],
   "source": [
    "pd.concat((train_test, y), axis=1)[pd.concat((train_test, y), axis=1)['latest_one_month_fail']>6]['status'].mean()"
   ]
  },
  {
   "cell_type": "code",
   "execution_count": null,
   "metadata": {
    "ExecuteTime": {
     "start_time": "2019-03-12T07:46:35.291Z"
    }
   },
   "outputs": [],
   "source": [
    "bins = list(range(0, 14)) + [100]"
   ]
  },
  {
   "cell_type": "code",
   "execution_count": null,
   "metadata": {
    "ExecuteTime": {
     "start_time": "2019-03-12T07:46:35.296Z"
    }
   },
   "outputs": [],
   "source": [
    "cat_bins_count(train_test, 'latest_one_month_fail', bins)\n",
    "\n",
    "train_test = cat_rank(train_test, pd.concat(\n",
    "    (train_test, y), axis=1), 'latest_one_month_fail_bins')"
   ]
  },
  {
   "cell_type": "code",
   "execution_count": null,
   "metadata": {
    "ExecuteTime": {
     "start_time": "2019-03-12T07:46:35.301Z"
    }
   },
   "outputs": [],
   "source": [
    "sns.barplot(data=pd.concat(\n",
    "    (train_test[:x_train.shape[0]], y), axis=1), x='latest_one_month_fail_bins', y='status')"
   ]
  },
  {
   "cell_type": "markdown",
   "metadata": {},
   "source": [
    "#### loans_score"
   ]
  },
  {
   "cell_type": "code",
   "execution_count": null,
   "metadata": {
    "ExecuteTime": {
     "start_time": "2019-03-12T07:46:35.306Z"
    }
   },
   "outputs": [],
   "source": [
    "plt.plot(train_test['loans_score'])"
   ]
  },
  {
   "cell_type": "code",
   "execution_count": null,
   "metadata": {
    "ExecuteTime": {
     "start_time": "2019-03-12T07:46:35.310Z"
    }
   },
   "outputs": [],
   "source": [
    "sns.boxenplot(data=pd.concat((train_test['loans_score'], y), axis=1), y='loans_score', x='status')"
   ]
  },
  {
   "cell_type": "code",
   "execution_count": null,
   "metadata": {
    "ExecuteTime": {
     "start_time": "2019-03-12T07:46:35.314Z"
    }
   },
   "outputs": [],
   "source": [
    "bins = list(range(400, 750, 50))"
   ]
  },
  {
   "cell_type": "code",
   "execution_count": null,
   "metadata": {
    "ExecuteTime": {
     "start_time": "2019-03-12T07:46:35.318Z"
    }
   },
   "outputs": [],
   "source": [
    "cat_bins_count(train_test, 'loans_score', bins)"
   ]
  },
  {
   "cell_type": "code",
   "execution_count": null,
   "metadata": {
    "ExecuteTime": {
     "start_time": "2019-03-12T07:46:35.323Z"
    }
   },
   "outputs": [],
   "source": [
    "train_test = cat_rank(train_test, pd.concat((train_test, y), axis=1)[\n",
    "                      :x_train.shape[0]], 'loans_score_bins')"
   ]
  },
  {
   "cell_type": "code",
   "execution_count": null,
   "metadata": {
    "ExecuteTime": {
     "start_time": "2019-03-12T07:46:35.328Z"
    }
   },
   "outputs": [],
   "source": [
    "dataset05 = train_test\n",
    "dataset05 = dataset05.convert_objects(convert_numeric=True)\n",
    "dataset05 = minmax_scale(dataset05)\n",
    "x_train, x_test, y_train, y_test = train_test_split(dataset05, y, test_size=0.2, random_state=666)\n",
    "LinearSVC = SVC(kernel='linear', probability=True)\n",
    "svcmodel = SklearnWrapper(LinearSVC)\n",
    "print_result(svcmodel, x_train, y_train, x_test)"
   ]
  },
  {
   "cell_type": "markdown",
   "metadata": {},
   "source": [
    "# 交叉特征"
   ]
  },
  {
   "cell_type": "markdown",
   "metadata": {},
   "source": [
    "## 高相关或低相关的统计量"
   ]
  },
  {
   "cell_type": "code",
   "execution_count": null,
   "metadata": {
    "ExecuteTime": {
     "start_time": "2019-03-12T07:46:35.333Z"
    }
   },
   "outputs": [],
   "source": [
    "corrs = pd.concat((train_test, y), axis=1).corr().loc['status'].sort_values(ascending=False)"
   ]
  },
  {
   "cell_type": "markdown",
   "metadata": {},
   "source": [
    "所有 rank 的平均数，最大值\n",
    "bool 特征的加和"
   ]
  },
  {
   "cell_type": "markdown",
   "metadata": {},
   "source": [
    "rank 的平均数/最大值"
   ]
  },
  {
   "cell_type": "code",
   "execution_count": null,
   "metadata": {
    "ExecuteTime": {
     "start_time": "2019-03-12T07:46:35.338Z"
    }
   },
   "outputs": [],
   "source": [
    "ranks = ['trans_fail_top_count_enum_sum_bins_rank', 'history_fail_fee_bins_rank',\n",
    "         'loans_overdue_count_bins_rank', 'latest_one_month_fail_bins_rank', 'loans_score_bins_rank']"
   ]
  },
  {
   "cell_type": "code",
   "execution_count": null,
   "metadata": {
    "ExecuteTime": {
     "start_time": "2019-03-12T07:46:35.342Z"
    }
   },
   "outputs": [],
   "source": [
    "train_test['corr_rank_sum'] = train_test[ranks].sum(1)\n",
    "train_test['corr_rank_max'] = train_test[ranks].max(1)"
   ]
  },
  {
   "cell_type": "code",
   "execution_count": null,
   "metadata": {
    "ExecuteTime": {
     "start_time": "2019-03-12T07:46:35.347Z"
    }
   },
   "outputs": [],
   "source": [
    "sns.barplot(data=pd.concat((train_test, y), axis=1), x='corr_rank_sum', y='status')"
   ]
  },
  {
   "cell_type": "code",
   "execution_count": null,
   "metadata": {
    "ExecuteTime": {
     "start_time": "2019-03-12T07:46:35.351Z"
    }
   },
   "outputs": [],
   "source": [
    "bincounts = ['latest_one_month_fail_bincount', 'loans_overdue_count_bincount',\n",
    "            'history_fail_fee_bincount', 'trans_fail_top_count_enum_sum_bincount']"
   ]
  },
  {
   "cell_type": "code",
   "execution_count": null,
   "metadata": {
    "ExecuteTime": {
     "start_time": "2019-03-12T07:46:35.355Z"
    }
   },
   "outputs": [],
   "source": [
    "train_test['bin_counts_sum'] = train_test[bincounts].sum(1)"
   ]
  },
  {
   "cell_type": "markdown",
   "metadata": {
    "ExecuteTime": {
     "end_time": "2019-03-04T15:08:15.637085Z",
     "start_time": "2019-03-04T15:08:15.496496Z"
    }
   },
   "source": [
    "## 高相关的交叉特征"
   ]
  },
  {
   "cell_type": "code",
   "execution_count": null,
   "metadata": {
    "ExecuteTime": {
     "start_time": "2019-03-12T07:46:35.362Z"
    }
   },
   "outputs": [],
   "source": [
    "corr_mat = pd.concat((train_test, y)[:x_train.shape[0]], axis=1).corr()"
   ]
  },
  {
   "cell_type": "code",
   "execution_count": null,
   "metadata": {
    "ExecuteTime": {
     "start_time": "2019-03-12T07:46:35.367Z"
    }
   },
   "outputs": [],
   "source": [
    "sns.heatmap(corr_mat)"
   ]
  },
  {
   "cell_type": "markdown",
   "metadata": {},
   "source": [
    "相关系数 >0.85 的特征"
   ]
  },
  {
   "cell_type": "code",
   "execution_count": null,
   "metadata": {
    "ExecuteTime": {
     "start_time": "2019-03-12T07:46:35.371Z"
    }
   },
   "outputs": [],
   "source": [
    "high_corrs = []\n",
    "for i in range(corr_mat.shape[0]):\n",
    "    for j in range(i, corr_mat.shape[1]):\n",
    "        if corr_mat.values[i][j] >0.85 or corr_mat.values[i][j] <-0.85:\n",
    "            if i != j:\n",
    "                high_corrs.append((corr_mat.index[i], corr_mat.columns[j]))"
   ]
  },
  {
   "cell_type": "code",
   "execution_count": null,
   "metadata": {
    "ExecuteTime": {
     "start_time": "2019-03-12T07:46:35.375Z"
    }
   },
   "outputs": [],
   "source": [
    "def scatter_corr2(idx, ax):\n",
    "    c1, c2 = high_corrs[idx]\n",
    "    sns.scatterplot(data=pd.concat((train_test[:x_train.shape[0]], y), axis=1), x=c1, y=c2, ax=ax, hue='status')"
   ]
  },
  {
   "cell_type": "code",
   "execution_count": null,
   "metadata": {
    "ExecuteTime": {
     "start_time": "2019-03-12T07:46:35.379Z"
    }
   },
   "outputs": [],
   "source": [
    "fig, axes = plt.subplots(8, 5, figsize=(20, 30))\n",
    "axes = [j for i in axes for j in i]\n",
    "for i in range(len(high_corrs)):\n",
    "    scatter_corr2(i, axes[i])\n",
    "plt.tight_layout()"
   ]
  },
  {
   "cell_type": "markdown",
   "metadata": {},
   "source": [
    "找出 label = 1 和 0 中分布不一致的做交叉"
   ]
  },
  {
   "cell_type": "code",
   "execution_count": null,
   "metadata": {
    "ExecuteTime": {
     "start_time": "2019-03-12T07:46:35.384Z"
    }
   },
   "outputs": [],
   "source": [
    "cross_feat = ['trans_top_time_last_6_month+consume_top_time_last_6_month', 'trans_fail_top_count_enum_last_12_month+trans_fail_top_count_enum_last_6_month',\n",
    "              'loans_settle_count/loans_count', 'history_suc_fee/loans_count', 'loans_org_count_behavior/loans_settle_count', 'loans_credit_limit+loans_avg_limit',\n",
    "             'loans_overdue_count_bins/loans_overdue_count', 'loans_overdue_count_bins_rank/loans_overdue_count', \n",
    "             'latest_one_month_fail/latest_one_month_fail_bins']"
   ]
  },
  {
   "cell_type": "code",
   "execution_count": null,
   "metadata": {
    "ExecuteTime": {
     "start_time": "2019-03-12T07:46:35.388Z"
    }
   },
   "outputs": [],
   "source": [
    "for i in cross_feat:\n",
    "    if '/' in i:\n",
    "        f1, f2 = i.split('/')\n",
    "        train_test[i] = train_test[f1].values.astype(\n",
    "            'float') / (train_test[f2].values.astype('float')+0.001)\n",
    "    elif '+' in i:\n",
    "        f1, f2 = i.split('+')\n",
    "        train_test[i] = train_test[f1] + train_test[f2]"
   ]
  },
  {
   "cell_type": "code",
   "execution_count": null,
   "metadata": {
    "ExecuteTime": {
     "start_time": "2019-03-12T07:46:35.392Z"
    }
   },
   "outputs": [],
   "source": [
    "dataset06 = train_test\n",
    "dataset06 = dataset06.convert_objects(convert_numeric=True)\n",
    "dataset06 = minmax_scale(dataset06)\n",
    "x_train, x_test, y_train, y_test = train_test_split(dataset06, y, test_size=0.2, random_state=666)\n",
    "LinearSVC = SVC(kernel='linear', probability=True)\n",
    "svcmodel = SklearnWrapper(LinearSVC)\n",
    "print_result(svcmodel, x_train, y_train, x_test)"
   ]
  },
  {
   "cell_type": "code",
   "execution_count": null,
   "metadata": {
    "ExecuteTime": {
     "start_time": "2019-03-12T07:46:35.395Z"
    }
   },
   "outputs": [],
   "source": [
    "lgbmClassifier = LGBMClassifier()\n",
    "svcmodel = SklearnWrapper(lgbmClassifier)\n",
    "print_result(svcmodel, x_train, y_train, x_test)"
   ]
  },
  {
   "cell_type": "markdown",
   "metadata": {},
   "source": [
    "# 特征选择"
   ]
  },
  {
   "cell_type": "markdown",
   "metadata": {},
   "source": [
    "特征选择的方法有多种\n",
    "- 基于先验知识的特征筛选方式\n",
    "    - 缺失比例\n",
    "    - 特征方差\n",
    "    - 特征相关性\n",
    "    - 特征可解释性\n",
    "- 基于模型打分的特征筛选方式\n",
    "    - Permutation Importance\n",
    "    - Partial Dependence Plots\n",
    "    - SHAP Values\n",
    "    - Null Importance  \n",
    "    参考 https://zhuanlan.zhihu.com/p/45898896  \n",
    "         https://www.kaggle.com/ogrellier/feature-selection-with-null-importances\n",
    "- 其他方法\n",
    "    - 利用 IV 值进行特征选择\n",
    "    - 利用 XGB，LGB 或 RF 进行特征选择\n",
    " "
   ]
  },
  {
   "cell_type": "markdown",
   "metadata": {},
   "source": [
    "## 基于模型打分的方式"
   ]
  },
  {
   "cell_type": "markdown",
   "metadata": {},
   "source": [
    "### Permuation Importance"
   ]
  },
  {
   "cell_type": "markdown",
   "metadata": {},
   "source": [
    "排列重要性，一定是在 model 训练完成后，才可以计算的。简单来说，就是改变数据表格中某一列的数据的排列，看其对预测准确性的影响有多大。大概三个步骤：\n",
    "- 训练好模型\n",
    "- 拿某一个 feature column, 然后随机打乱顺序。然后用模型来重新预测一遍，看看自己的 metric 或者 loss function 变化了多少\n",
    "- 把上一个步骤中打乱的 column 复原，换下一个 column 重复上一个步骤，直到所有 column 都算一遍"
   ]
  },
  {
   "cell_type": "code",
   "execution_count": null,
   "metadata": {
    "ExecuteTime": {
     "start_time": "2019-03-12T07:46:35.402Z"
    }
   },
   "outputs": [],
   "source": [
    "from sklearn.ensemble import RandomForestClassifier\n",
    "my_model = RandomForestClassifier(random_state=0).fit(x_train, y_train)\n",
    "import eli5\n",
    "from eli5.sklearn import PermutationImportance\n",
    "\n",
    "perm = PermutationImportance(my_model, random_state=1).fit(x_test, y_test)\n",
    "eli5.show_weights(perm, feature_names = train_test.columns.tolist())"
   ]
  },
  {
   "cell_type": "markdown",
   "metadata": {},
   "source": [
    "### partial dependence"
   ]
  },
  {
   "cell_type": "markdown",
   "metadata": {},
   "source": [
    "告诉你一个特征是如何影响预测的。通过对某个变量反复的进行修改和重新预测，观察预测结果。"
   ]
  },
  {
   "cell_type": "code",
   "execution_count": null,
   "metadata": {
    "ExecuteTime": {
     "start_time": "2019-03-12T07:46:35.406Z"
    }
   },
   "outputs": [],
   "source": [
    "feature_names = [i for i in train_test.columns if train_test[i].dtype in [np.float, np.int64]]\n",
    "feature_to_plot = 'loans_avg_limit'"
   ]
  },
  {
   "cell_type": "code",
   "execution_count": null,
   "metadata": {
    "ExecuteTime": {
     "start_time": "2019-03-12T07:46:35.410Z"
    }
   },
   "outputs": [],
   "source": [
    "X = train_test[feature_names]"
   ]
  },
  {
   "cell_type": "code",
   "execution_count": null,
   "metadata": {
    "ExecuteTime": {
     "start_time": "2019-03-12T07:46:35.414Z"
    }
   },
   "outputs": [],
   "source": [
    "train_X_true, test_X_true, train_y_true, test_y_true = train_test_split(\n",
    "    X, y, random_state=1)"
   ]
  },
  {
   "cell_type": "code",
   "execution_count": null,
   "metadata": {
    "ExecuteTime": {
     "start_time": "2019-03-12T07:46:35.419Z"
    }
   },
   "outputs": [],
   "source": [
    "# Build Random Forest model\n",
    "from pdpbox import pdp, get_dataset, info_plots\n",
    "rf_model = RandomForestClassifier(random_state=0).fit(train_X_true, train_y_true)\n",
    "pdp_dist = pdp.pdp_isolate(model=rf_model, dataset=test_X_true, model_features=feature_names, feature=feature_to_plot)\n",
    "pdp.pdp_plot(pdp_dist, feature_to_plot)"
   ]
  },
  {
   "cell_type": "markdown",
   "metadata": {},
   "source": [
    "### SHAP value"
   ]
  },
  {
   "cell_type": "markdown",
   "metadata": {
    "ExecuteTime": {
     "end_time": "2019-03-11T14:00:50.819086Z",
     "start_time": "2019-03-11T14:00:50.697222Z"
    }
   },
   "source": [
    "利用 SHAP value 生成的 Summary plot\n",
    "- 竖直坐标是说明它属于哪个特征\n",
    "- 颜色代表了这个特征在某一行数据里的数值是高还是低\n",
    "- 水平位置代表了这个特征在某一行数据里是提高预测值还是降低预测值"
   ]
  },
  {
   "cell_type": "code",
   "execution_count": null,
   "metadata": {
    "ExecuteTime": {
     "start_time": "2019-03-12T07:46:35.424Z"
    }
   },
   "outputs": [],
   "source": [
    "train_X, val_X, train_y, val_y = train_test_split(X, y, random_state=1)\n",
    "my_model = RandomForestClassifier(random_state=0).fit(train_X, train_y)"
   ]
  },
  {
   "cell_type": "code",
   "execution_count": null,
   "metadata": {
    "ExecuteTime": {
     "start_time": "2019-03-12T07:46:35.428Z"
    }
   },
   "outputs": [],
   "source": [
    "import shap  # package used to calculate Shap values\n",
    "# Create object that can calculate shap values\n",
    "explainer = shap.TreeExplainer(my_model)\n",
    "# calculate shap values. This is what we will plot.\n",
    "# Calculate shap_values for all of val_X rather than a single row, to have more data for plot.\n",
    "shap_values = explainer.shap_values(val_X)"
   ]
  },
  {
   "cell_type": "code",
   "execution_count": null,
   "metadata": {
    "ExecuteTime": {
     "start_time": "2019-03-12T07:46:35.433Z"
    }
   },
   "outputs": [],
   "source": [
    "shap.initjs()\n",
    "# Make plot. Index of [1] is explained in text below.\n",
    "shap.summary_plot(shap_values[1], val_X, max_display=30)"
   ]
  },
  {
   "cell_type": "markdown",
   "metadata": {},
   "source": [
    "### Null Importance"
   ]
  },
  {
   "cell_type": "markdown",
   "metadata": {},
   "source": [
    "将特征分数与随机假特征的分数（即Null Importance）进行对比，假如特征的分数并不能明显超过null importance，那么证明这个特征是一个无用的特征。"
   ]
  },
  {
   "cell_type": "markdown",
   "metadata": {},
   "source": [
    "#### 得分标准\n",
    "采用 lgb 中的 rf 里的基尼增益，分裂次数和 AUC score 作为评价指标"
   ]
  },
  {
   "cell_type": "code",
   "execution_count": null,
   "metadata": {},
   "outputs": [],
   "source": [
    "def get_feature_importances(data, shuffle, seed=None):\n",
    "    # Gather real features\n",
    "    \n",
    "    # Go over fold and keep track of CV score (train and valid) and feature importances\n",
    "    \n",
    "    # Shuffle target if required\n",
    "    y = data['label'].copy()\n",
    "    if shuffle:\n",
    "        # Here you could as well use a binomial distribution\n",
    "        y = data['TARGET'].copy().sample(frac=1.0)\n",
    "    \n",
    "    # Fit LightGBM in RF mode, yes it's quicker than sklearn RandomForest\n",
    "    dtrain = lgb.Dataset(data[train_features], y, free_raw_data=False, silent=True)\n",
    "    lgb_params = {\n",
    "        'objective': 'binary',\n",
    "        'boosting_type': 'rf',\n",
    "        'subsample': 0.623,\n",
    "        'colsample_bytree': 0.7,\n",
    "        'num_leaves': 127,\n",
    "        'max_depth': 8,\n",
    "        'seed': seed,\n",
    "        'bagging_freq': 1,\n",
    "        'n_jobs': 4\n",
    "    }\n",
    "    \n",
    "    # Fit the model\n",
    "    clf = lgb.train(params=lgb_params, train_set=dtrain, num_boost_round=200, categorical_feature=categorical_feats)\n",
    "\n",
    "    # Get feature importances\n",
    "    imp_df = pd.DataFrame()\n",
    "    imp_df[\"feature\"] = list(train_features)\n",
    "    imp_df[\"importance_gain\"] = clf.feature_importance(importance_type='gain')\n",
    "    imp_df[\"importance_split\"] = clf.feature_importance(importance_type='split')\n",
    "    imp_df['trn_score'] = roc_auc_score(y, clf.predict(data[train_features]))\n",
    "    \n",
    "    return imp_df"
   ]
  },
  {
   "cell_type": "markdown",
   "metadata": {},
   "source": [
    "## 利用 XGB 进行模型选择"
   ]
  },
  {
   "cell_type": "markdown",
   "metadata": {},
   "source": [
    "利用 xgb 选择特征时，可以从\n",
    "- 特征 Gini 增益\n",
    "- 特征分裂次数\n",
    "- 特征所在的平均深度\n",
    "- 特征是否被使用\n",
    "- 特征子节点样本数量\n",
    "等方面考虑。  \n",
    "利用 xgbfir 可以直接计算特征重要性的属性值，一般不考虑 rank 值，从 gini 系数和特征分裂次数等方面考虑。"
   ]
  },
  {
   "cell_type": "code",
   "execution_count": 139,
   "metadata": {
    "ExecuteTime": {
     "end_time": "2019-03-08T11:14:20.152695Z",
     "start_time": "2019-03-08T11:14:18.966813Z"
    }
   },
   "outputs": [],
   "source": [
    "import xgboost as xgb\n",
    "xgb_cmodel = xgb.XGBClassifier().fit(train_test[:x_train.shape[0]].astype('float'), y_train)"
   ]
  },
  {
   "cell_type": "code",
   "execution_count": 140,
   "metadata": {
    "ExecuteTime": {
     "end_time": "2019-03-08T11:14:20.597481Z",
     "start_time": "2019-03-08T11:14:20.153637Z"
    }
   },
   "outputs": [],
   "source": [
    "xgbfir.saveXgbFI(xgb_cmodel, feature_names=train_test.columns, OutputXlsxFile='特征重要性.xlsx')"
   ]
  },
  {
   "cell_type": "code",
   "execution_count": 141,
   "metadata": {
    "ExecuteTime": {
     "end_time": "2019-03-08T11:14:20.783992Z",
     "start_time": "2019-03-08T11:14:20.602437Z"
    }
   },
   "outputs": [],
   "source": [
    "fi = pd.read_excel('特征重要性.xlsx')"
   ]
  },
  {
   "cell_type": "markdown",
   "metadata": {},
   "source": [
    "# 特征选择"
   ]
  },
  {
   "cell_type": "code",
   "execution_count": 142,
   "metadata": {
    "ExecuteTime": {
     "end_time": "2019-03-08T11:14:20.888713Z",
     "start_time": "2019-03-08T11:14:20.785947Z"
    }
   },
   "outputs": [],
   "source": [
    "selected_feats = fi.sort_values(by='Average Rank')[:60]['Interaction']"
   ]
  },
  {
   "cell_type": "code",
   "execution_count": 143,
   "metadata": {
    "ExecuteTime": {
     "end_time": "2019-03-08T11:14:20.998379Z",
     "start_time": "2019-03-08T11:14:20.890665Z"
    }
   },
   "outputs": [],
   "source": [
    "train_test_select = train_test[selected_feats]"
   ]
  },
  {
   "cell_type": "markdown",
   "metadata": {},
   "source": [
    "# 模型预测和评估"
   ]
  },
  {
   "cell_type": "code",
   "execution_count": 144,
   "metadata": {
    "ExecuteTime": {
     "end_time": "2019-03-08T11:14:21.122046Z",
     "start_time": "2019-03-08T11:14:21.003364Z"
    }
   },
   "outputs": [
    {
     "data": {
      "text/plain": [
       "(4754, 60)"
      ]
     },
     "execution_count": 144,
     "metadata": {},
     "output_type": "execute_result"
    }
   ],
   "source": [
    "train_test_select.shape"
   ]
  },
  {
   "cell_type": "code",
   "execution_count": 145,
   "metadata": {
    "ExecuteTime": {
     "end_time": "2019-03-08T11:14:21.254728Z",
     "start_time": "2019-03-08T11:14:21.124044Z"
    }
   },
   "outputs": [],
   "source": [
    "x_train, x_test, y_train, y_test = train_test_split(train_test_select, y, test_size=0.2, random_state=2018)"
   ]
  },
  {
   "cell_type": "code",
   "execution_count": 146,
   "metadata": {
    "ExecuteTime": {
     "end_time": "2019-03-08T11:14:21.383351Z",
     "start_time": "2019-03-08T11:14:21.256686Z"
    }
   },
   "outputs": [],
   "source": [
    "x_train_scale = minmax_scale(x_train)\n",
    "x_test_scale = minmax_scale(x_test)"
   ]
  },
  {
   "cell_type": "markdown",
   "metadata": {},
   "source": [
    "## LR"
   ]
  },
  {
   "cell_type": "code",
   "execution_count": 147,
   "metadata": {
    "ExecuteTime": {
     "end_time": "2019-03-08T11:14:21.579821Z",
     "start_time": "2019-03-08T11:14:21.386341Z"
    }
   },
   "outputs": [
    {
     "name": "stdout",
     "output_type": "stream",
     "text": [
      "----Training Report----\n",
      "LogisticRegression report：\n",
      "              precision    recall  f1-score   support\n",
      "\n",
      "          0       0.81      0.95      0.87      2844\n",
      "          1       0.69      0.32      0.44       959\n",
      "\n",
      "avg / total       0.78      0.79      0.76      3803\n",
      "\n",
      "LogisticRegression AUC：\n",
      " 0.8052424363752092\n",
      "----Test Report----\n",
      "LogisticRegression report：\n",
      "              precision    recall  f1-score   support\n",
      "\n",
      "          0       0.81      0.92      0.86       717\n",
      "          1       0.57      0.33      0.42       234\n",
      "\n",
      "avg / total       0.75      0.77      0.75       951\n",
      "\n",
      "LogisticRegression AUC：\n",
      " 0.7687122268712228\n"
     ]
    }
   ],
   "source": [
    "log_reg = LogisticRegression()\n",
    "lr_model = SklearnWrapper(log_reg)\n",
    "print_result(lr_model, x_train_scale, y_train, x_test_scale)"
   ]
  },
  {
   "cell_type": "markdown",
   "metadata": {
    "ExecuteTime": {
     "end_time": "2019-03-06T14:30:25.225647Z",
     "start_time": "2019-03-06T14:30:25.114729Z"
    }
   },
   "source": [
    "## 决策树"
   ]
  },
  {
   "cell_type": "code",
   "execution_count": 148,
   "metadata": {
    "ExecuteTime": {
     "end_time": "2019-03-08T11:14:21.798237Z",
     "start_time": "2019-03-08T11:14:21.581817Z"
    }
   },
   "outputs": [
    {
     "name": "stdout",
     "output_type": "stream",
     "text": [
      "----Training Report----\n",
      "DecisionTreeClassifier report：\n",
      "              precision    recall  f1-score   support\n",
      "\n",
      "          0       0.84      0.95      0.89      2844\n",
      "          1       0.76      0.47      0.58       959\n",
      "\n",
      "avg / total       0.82      0.83      0.81      3803\n",
      "\n",
      "DecisionTreeClassifier AUC：\n",
      " 0.8360073124694763\n",
      "----Test Report----\n",
      "DecisionTreeClassifier report：\n",
      "              precision    recall  f1-score   support\n",
      "\n",
      "          0       0.81      0.90      0.85       717\n",
      "          1       0.52      0.34      0.41       234\n",
      "\n",
      "avg / total       0.74      0.76      0.74       951\n",
      "\n",
      "DecisionTreeClassifier AUC：\n",
      " 0.7061772103613109\n"
     ]
    }
   ],
   "source": [
    "dtree = DecisionTreeClassifier(max_depth=6)\n",
    "dtreemodel = SklearnWrapper(dtree)\n",
    "print_result(dtreemodel, x_train, y_train, x_test)"
   ]
  },
  {
   "cell_type": "markdown",
   "metadata": {},
   "source": [
    "## SVC"
   ]
  },
  {
   "cell_type": "code",
   "execution_count": 149,
   "metadata": {
    "ExecuteTime": {
     "end_time": "2019-03-08T11:14:25.917221Z",
     "start_time": "2019-03-08T11:14:21.799236Z"
    }
   },
   "outputs": [
    {
     "name": "stdout",
     "output_type": "stream",
     "text": [
      "----Training Report----\n",
      "SVC report：\n",
      "              precision    recall  f1-score   support\n",
      "\n",
      "          0       0.79      0.97      0.87      2844\n",
      "          1       0.74      0.25      0.38       959\n",
      "\n",
      "avg / total       0.78      0.79      0.75      3803\n",
      "\n",
      "SVC AUC：\n",
      " 0.8098515947079192\n",
      "----Test Report----\n",
      "SVC report：\n",
      "              precision    recall  f1-score   support\n",
      "\n",
      "          0       0.80      0.95      0.87       717\n",
      "          1       0.62      0.26      0.36       234\n",
      "\n",
      "avg / total       0.75      0.78      0.74       951\n",
      "\n",
      "SVC AUC：\n",
      " 0.7700473244406298\n"
     ]
    }
   ],
   "source": [
    "LinearSVC = SVC(kernel='linear', probability=True)\n",
    "svcmodel = SklearnWrapper(LinearSVC)\n",
    "print_result(svcmodel, x_train_scale, y_train, x_test_scale)"
   ]
  },
  {
   "cell_type": "markdown",
   "metadata": {},
   "source": [
    "## LightGBM"
   ]
  },
  {
   "cell_type": "code",
   "execution_count": 150,
   "metadata": {
    "ExecuteTime": {
     "end_time": "2019-03-08T11:14:26.881641Z",
     "start_time": "2019-03-08T11:14:25.918218Z"
    }
   },
   "outputs": [
    {
     "name": "stdout",
     "output_type": "stream",
     "text": [
      "----Training Report----\n",
      "LGBMClassifier report：\n",
      "              precision    recall  f1-score   support\n",
      "\n",
      "          0       0.99      1.00      0.99      2844\n",
      "          1       1.00      0.96      0.98       959\n",
      "\n",
      "avg / total       0.99      0.99      0.99      3803\n",
      "\n",
      "LGBMClassifier AUC：\n",
      " 0.9998944047729043\n",
      "----Test Report----\n",
      "LGBMClassifier report：\n",
      "              precision    recall  f1-score   support\n",
      "\n",
      "          0       0.81      0.91      0.86       717\n",
      "          1       0.57      0.36      0.44       234\n",
      "\n",
      "avg / total       0.75      0.78      0.76       951\n",
      "\n",
      "LGBMClassifier AUC：\n",
      " 0.7459440451072251\n"
     ]
    },
    {
     "name": "stderr",
     "output_type": "stream",
     "text": [
      "C:\\Users\\hotheat\\Anaconda3\\lib\\site-packages\\sklearn\\preprocessing\\label.py:151: DeprecationWarning: The truth value of an empty array is ambiguous. Returning False, but in future this will result in an error. Use `array.size > 0` to check that an array is not empty.\n",
      "  if diff:\n",
      "C:\\Users\\hotheat\\Anaconda3\\lib\\site-packages\\sklearn\\preprocessing\\label.py:151: DeprecationWarning: The truth value of an empty array is ambiguous. Returning False, but in future this will result in an error. Use `array.size > 0` to check that an array is not empty.\n",
      "  if diff:\n"
     ]
    }
   ],
   "source": [
    "lgbmClassifier = LGBMClassifier()\n",
    "lgbmodel = SklearnWrapper(lgbmClassifier)\n",
    "print_result(lgbmodel, x_train, y_train, x_test)"
   ]
  },
  {
   "cell_type": "markdown",
   "metadata": {},
   "source": [
    "## XGBClassifier"
   ]
  },
  {
   "cell_type": "code",
   "execution_count": 151,
   "metadata": {
    "ExecuteTime": {
     "end_time": "2019-03-08T11:14:27.684493Z",
     "start_time": "2019-03-08T11:14:26.883645Z"
    }
   },
   "outputs": [
    {
     "name": "stdout",
     "output_type": "stream",
     "text": [
      "----Training Report----\n",
      "XGBClassifier report：\n",
      "              precision    recall  f1-score   support\n",
      "\n",
      "          0       0.85      0.97      0.90      2844\n",
      "          1       0.83      0.49      0.61       959\n",
      "\n",
      "avg / total       0.84      0.85      0.83      3803\n",
      "\n",
      "XGBClassifier AUC：\n",
      " 0.9002726410099597\n",
      "----Test Report----\n",
      "XGBClassifier report：\n",
      "              precision    recall  f1-score   support\n",
      "\n",
      "          0       0.82      0.92      0.87       717\n",
      "          1       0.61      0.38      0.47       234\n",
      "\n",
      "avg / total       0.77      0.79      0.77       951\n",
      "\n",
      "XGBClassifier AUC：\n",
      " 0.76379501484104\n"
     ]
    },
    {
     "name": "stderr",
     "output_type": "stream",
     "text": [
      "C:\\Users\\hotheat\\Anaconda3\\lib\\site-packages\\sklearn\\preprocessing\\label.py:151: DeprecationWarning: The truth value of an empty array is ambiguous. Returning False, but in future this will result in an error. Use `array.size > 0` to check that an array is not empty.\n",
      "  if diff:\n",
      "C:\\Users\\hotheat\\Anaconda3\\lib\\site-packages\\sklearn\\preprocessing\\label.py:151: DeprecationWarning: The truth value of an empty array is ambiguous. Returning False, but in future this will result in an error. Use `array.size > 0` to check that an array is not empty.\n",
      "  if diff:\n"
     ]
    }
   ],
   "source": [
    "xgbClassifier = XGBClassifier()\n",
    "xgbmodel = SklearnWrapper(xgbClassifier)\n",
    "print_result(xgbmodel, x_train, y_train, x_test)"
   ]
  },
  {
   "cell_type": "markdown",
   "metadata": {},
   "source": [
    "之前 AUC 的计算错误是因为把 y_pred 当作 y_pred_proba 来计算的。  \n",
    "为什么最后 AUC 没有提高？"
   ]
  },
  {
   "cell_type": "code",
   "execution_count": null,
   "metadata": {},
   "outputs": [],
   "source": []
  }
 ],
 "metadata": {
  "kernelspec": {
   "display_name": "Python 3",
   "language": "python",
   "name": "python3"
  },
  "language_info": {
   "codemirror_mode": {
    "name": "ipython",
    "version": 3
   },
   "file_extension": ".py",
   "mimetype": "text/x-python",
   "name": "python",
   "nbconvert_exporter": "python",
   "pygments_lexer": "ipython3",
   "version": "3.6.5"
  },
  "toc": {
   "base_numbering": 1,
   "nav_menu": {},
   "number_sections": true,
   "sideBar": true,
   "skip_h1_title": false,
   "title_cell": "Table of Contents",
   "title_sidebar": "Contents",
   "toc_cell": false,
   "toc_position": {
    "height": "444px",
    "left": "25px",
    "top": "110px",
    "width": "299px"
   },
   "toc_section_display": true,
   "toc_window_display": true
  }
 },
 "nbformat": 4,
 "nbformat_minor": 2
}
